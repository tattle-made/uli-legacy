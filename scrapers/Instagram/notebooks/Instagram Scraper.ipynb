{
 "cells": [
  {
   "cell_type": "markdown",
   "id": "30e48e9b",
   "metadata": {},
   "source": [
    "### Insta-scrape"
   ]
  },
  {
   "cell_type": "code",
   "execution_count": 23,
   "id": "7212197e",
   "metadata": {},
   "outputs": [],
   "source": [
    "test_profile = \"rhea_chakraborty\""
   ]
  },
  {
   "cell_type": "code",
   "execution_count": 1,
   "id": "22bb7356",
   "metadata": {},
   "outputs": [
    {
     "name": "stdout",
     "output_type": "stream",
     "text": [
      "Collecting insta-scrape\n",
      "  Downloading insta_scrape-2.1.2-py3-none-any.whl (26 kB)\n",
      "Requirement already satisfied: requests in /home/mlkorra/anaconda3/envs/nlp/lib/python3.7/site-packages (from insta-scrape) (2.26.0)\n",
      "Requirement already satisfied: beautifulsoup4 in /home/mlkorra/anaconda3/envs/nlp/lib/python3.7/site-packages (from insta-scrape) (4.10.0)\n",
      "Requirement already satisfied: soupsieve>1.2 in /home/mlkorra/anaconda3/envs/nlp/lib/python3.7/site-packages (from beautifulsoup4->insta-scrape) (2.2.1)\n",
      "Requirement already satisfied: charset-normalizer~=2.0.0 in /home/mlkorra/anaconda3/envs/nlp/lib/python3.7/site-packages (from requests->insta-scrape) (2.0.6)\n",
      "Requirement already satisfied: idna<4,>=2.5 in /home/mlkorra/anaconda3/envs/nlp/lib/python3.7/site-packages (from requests->insta-scrape) (3.2)\n",
      "Requirement already satisfied: urllib3<1.27,>=1.21.1 in /home/mlkorra/anaconda3/envs/nlp/lib/python3.7/site-packages (from requests->insta-scrape) (1.26.6)\n",
      "Requirement already satisfied: certifi>=2017.4.17 in /home/mlkorra/anaconda3/envs/nlp/lib/python3.7/site-packages (from requests->insta-scrape) (2021.5.30)\n",
      "Installing collected packages: insta-scrape\n",
      "Successfully installed insta-scrape-2.1.2\n"
     ]
    }
   ],
   "source": [
    "!pip3 install insta-scrape"
   ]
  },
  {
   "cell_type": "code",
   "execution_count": 4,
   "id": "174c1249",
   "metadata": {},
   "outputs": [
    {
     "name": "stderr",
     "output_type": "stream",
     "text": [
      "/home/mlkorra/anaconda3/envs/nlp/lib/python3.7/site-packages/instascrape/core/_static_scraper.py:136: MissingCookiesWarning: Request header does not contain cookies! It's recommended you pass at least a valid sessionid otherwise Instagram will likely redirect you to their login page.\n",
      "  MissingCookiesWarning\n"
     ]
    }
   ],
   "source": [
    "from instascrape import Profile\n",
    "\n",
    "prof = Profile('rhea_chakraborty')\n",
    "prof.scrape()"
   ]
  },
  {
   "cell_type": "code",
   "execution_count": 7,
   "id": "60db2699",
   "metadata": {},
   "outputs": [
    {
     "name": "stderr",
     "output_type": "stream",
     "text": [
      "/home/mlkorra/anaconda3/envs/nlp/lib/python3.7/site-packages/instascrape/core/_static_scraper.py:136: MissingCookiesWarning: Request header does not contain cookies! It's recommended you pass at least a valid sessionid otherwise Instagram will likely redirect you to their login page.\n",
      "  MissingCookiesWarning\n"
     ]
    }
   ],
   "source": [
    "recents = prof.get_recent_posts()\n",
    "photos = [post for post in recents if not post.is_video]"
   ]
  },
  {
   "cell_type": "code",
   "execution_count": 10,
   "id": "d76c6ddd",
   "metadata": {},
   "outputs": [],
   "source": [
    "for post in photos:\n",
    "    fname = post.upload_date.strftime(\"%Y-%m-%d %Hh%Mm\")\n",
    "    post.download(f\"{fname}.jpg\")"
   ]
  },
  {
   "cell_type": "markdown",
   "id": "b87dd488",
   "metadata": {},
   "source": [
    "#### with selenium"
   ]
  },
  {
   "cell_type": "code",
   "execution_count": 24,
   "id": "14243f99",
   "metadata": {
    "collapsed": true
   },
   "outputs": [
    {
     "name": "stderr",
     "output_type": "stream",
     "text": [
      "/home/mlkorra/anaconda3/envs/nlp/lib/python3.7/site-packages/instascrape/core/_static_scraper.py:136: MissingCookiesWarning: Request header does not contain cookies! It's recommended you pass at least a valid sessionid otherwise Instagram will likely redirect you to their login page.\n",
      "  MissingCookiesWarning\n"
     ]
    },
    {
     "ename": "InstagramLoginRedirectError",
     "evalue": "Instagram is redirecting you to the login page instead of the page you are trying to scrape. This could be occuring because you made too many requests too quickly or are not logged into Instagram on your machine. Try passing a valid session ID to the scrape method as a cookie to bypass the login requirement",
     "output_type": "error",
     "traceback": [
      "\u001b[0;31m---------------------------------------------------------------------------\u001b[0m",
      "\u001b[0;31mInstagramLoginRedirectError\u001b[0m               Traceback (most recent call last)",
      "\u001b[0;32m/tmp/ipykernel_27933/3090233884.py\u001b[0m in \u001b[0;36m<module>\u001b[0;34m\u001b[0m\n\u001b[1;32m     12\u001b[0m \u001b[0;31m#           \"cookie\": f\"sessionid={SESSIONID};\"}\u001b[0m\u001b[0;34m\u001b[0m\u001b[0;34m\u001b[0m\u001b[0;34m\u001b[0m\u001b[0m\n\u001b[1;32m     13\u001b[0m \u001b[0mjoe\u001b[0m \u001b[0;34m=\u001b[0m \u001b[0mProfile\u001b[0m\u001b[0;34m(\u001b[0m\u001b[0mtest_profile\u001b[0m\u001b[0;34m)\u001b[0m\u001b[0;34m\u001b[0m\u001b[0;34m\u001b[0m\u001b[0m\n\u001b[0;32m---> 14\u001b[0;31m \u001b[0mjoe\u001b[0m\u001b[0;34m.\u001b[0m\u001b[0mscrape\u001b[0m\u001b[0;34m(\u001b[0m\u001b[0;34m)\u001b[0m\u001b[0;34m\u001b[0m\u001b[0;34m\u001b[0m\u001b[0m\n\u001b[0m\u001b[1;32m     15\u001b[0m \u001b[0;34m\u001b[0m\u001b[0m\n\u001b[1;32m     16\u001b[0m \u001b[0;31m# Scraping the posts\u001b[0m\u001b[0;34m\u001b[0m\u001b[0;34m\u001b[0m\u001b[0;34m\u001b[0m\u001b[0m\n",
      "\u001b[0;32m~/anaconda3/envs/nlp/lib/python3.7/site-packages/instascrape/core/_static_scraper.py\u001b[0m in \u001b[0;36mscrape\u001b[0;34m(self, mapping, keys, exclude, headers, inplace, session, webdriver)\u001b[0m\n\u001b[1;32m    142\u001b[0m             \u001b[0mscraped_dict\u001b[0m \u001b[0;34m=\u001b[0m \u001b[0mself\u001b[0m\u001b[0;34m.\u001b[0m\u001b[0msource\u001b[0m\u001b[0;34m.\u001b[0m\u001b[0mto_dict\u001b[0m\u001b[0;34m(\u001b[0m\u001b[0;34m)\u001b[0m\u001b[0;34m\u001b[0m\u001b[0;34m\u001b[0m\u001b[0m\n\u001b[1;32m    143\u001b[0m         \u001b[0;32melse\u001b[0m\u001b[0;34m:\u001b[0m\u001b[0;34m\u001b[0m\u001b[0;34m\u001b[0m\u001b[0m\n\u001b[0;32m--> 144\u001b[0;31m             \u001b[0mreturn_data\u001b[0m \u001b[0;34m=\u001b[0m \u001b[0mself\u001b[0m\u001b[0;34m.\u001b[0m\u001b[0m_get_json_from_source\u001b[0m\u001b[0;34m(\u001b[0m\u001b[0mself\u001b[0m\u001b[0;34m.\u001b[0m\u001b[0msource\u001b[0m\u001b[0;34m,\u001b[0m \u001b[0mheaders\u001b[0m\u001b[0;34m=\u001b[0m\u001b[0mheaders\u001b[0m\u001b[0;34m,\u001b[0m \u001b[0msession\u001b[0m\u001b[0;34m=\u001b[0m\u001b[0msession\u001b[0m\u001b[0;34m)\u001b[0m\u001b[0;34m\u001b[0m\u001b[0;34m\u001b[0m\u001b[0m\n\u001b[0m\u001b[1;32m    145\u001b[0m             \u001b[0mflat_json_dict\u001b[0m \u001b[0;34m=\u001b[0m \u001b[0mflatten_dict\u001b[0m\u001b[0;34m(\u001b[0m\u001b[0mreturn_data\u001b[0m\u001b[0;34m[\u001b[0m\u001b[0;34m\"json_dict\"\u001b[0m\u001b[0;34m]\u001b[0m\u001b[0;34m)\u001b[0m\u001b[0;34m\u001b[0m\u001b[0;34m\u001b[0m\u001b[0m\n\u001b[1;32m    146\u001b[0m \u001b[0;34m\u001b[0m\u001b[0m\n",
      "\u001b[0;32m~/anaconda3/envs/nlp/lib/python3.7/site-packages/instascrape/core/_static_scraper.py\u001b[0m in \u001b[0;36m_get_json_from_source\u001b[0;34m(self, source, headers, session)\u001b[0m\n\u001b[1;32m    263\u001b[0m             \u001b[0;32melse\u001b[0m\u001b[0;34m:\u001b[0m\u001b[0;34m\u001b[0m\u001b[0;34m\u001b[0m\u001b[0m\n\u001b[1;32m    264\u001b[0m                 \u001b[0mjson_dict\u001b[0m \u001b[0;34m=\u001b[0m \u001b[0mjson_dict_arr\u001b[0m\u001b[0;34m[\u001b[0m\u001b[0;36m1\u001b[0m\u001b[0;34m]\u001b[0m\u001b[0;34m\u001b[0m\u001b[0;34m\u001b[0m\u001b[0m\n\u001b[0;32m--> 265\u001b[0;31m             \u001b[0mself\u001b[0m\u001b[0;34m.\u001b[0m\u001b[0m_validate_scrape\u001b[0m\u001b[0;34m(\u001b[0m\u001b[0mjson_dict\u001b[0m\u001b[0;34m)\u001b[0m\u001b[0;34m\u001b[0m\u001b[0;34m\u001b[0m\u001b[0m\n\u001b[0m\u001b[1;32m    266\u001b[0m \u001b[0;34m\u001b[0m\u001b[0m\n\u001b[1;32m    267\u001b[0m         \u001b[0mreturn_data\u001b[0m\u001b[0;34m[\u001b[0m\u001b[0;34m\"json_dict\"\u001b[0m\u001b[0;34m]\u001b[0m \u001b[0;34m=\u001b[0m \u001b[0mjson_dict\u001b[0m\u001b[0;34m\u001b[0m\u001b[0;34m\u001b[0m\u001b[0m\n",
      "\u001b[0;32m~/anaconda3/envs/nlp/lib/python3.7/site-packages/instascrape/core/_static_scraper.py\u001b[0m in \u001b[0;36m_validate_scrape\u001b[0;34m(self, json_dict)\u001b[0m\n\u001b[1;32m    299\u001b[0m         \u001b[0mjson_type\u001b[0m \u001b[0;34m=\u001b[0m \u001b[0mdetermine_json_type\u001b[0m\u001b[0;34m(\u001b[0m\u001b[0mjson_dict\u001b[0m\u001b[0;34m)\u001b[0m\u001b[0;34m\u001b[0m\u001b[0;34m\u001b[0m\u001b[0m\n\u001b[1;32m    300\u001b[0m         \u001b[0;32mif\u001b[0m \u001b[0mjson_type\u001b[0m \u001b[0;34m==\u001b[0m \u001b[0;34m\"LoginAndSignupPage\"\u001b[0m \u001b[0;32mand\u001b[0m \u001b[0;32mnot\u001b[0m \u001b[0mtype\u001b[0m\u001b[0;34m(\u001b[0m\u001b[0mself\u001b[0m\u001b[0;34m)\u001b[0m\u001b[0;34m.\u001b[0m\u001b[0m__name__\u001b[0m \u001b[0;34m==\u001b[0m \u001b[0;34m\"LoginAndSignupPage\"\u001b[0m\u001b[0;34m:\u001b[0m\u001b[0;34m\u001b[0m\u001b[0;34m\u001b[0m\u001b[0m\n\u001b[0;32m--> 301\u001b[0;31m             \u001b[0;32mraise\u001b[0m \u001b[0mInstagramLoginRedirectError\u001b[0m\u001b[0;34m\u001b[0m\u001b[0;34m\u001b[0m\u001b[0m\n\u001b[0m\u001b[1;32m    302\u001b[0m         \u001b[0;32melif\u001b[0m \u001b[0mjson_type\u001b[0m \u001b[0;34m==\u001b[0m \u001b[0;34m\"HttpErrorPage\"\u001b[0m \u001b[0;32mand\u001b[0m \u001b[0;32mnot\u001b[0m \u001b[0mtype\u001b[0m\u001b[0;34m(\u001b[0m\u001b[0mself\u001b[0m\u001b[0;34m)\u001b[0m\u001b[0;34m.\u001b[0m\u001b[0m__name__\u001b[0m \u001b[0;34m==\u001b[0m \u001b[0;34m\"HttpErrorPage\"\u001b[0m\u001b[0;34m:\u001b[0m\u001b[0;34m\u001b[0m\u001b[0;34m\u001b[0m\u001b[0m\n\u001b[1;32m    303\u001b[0m             \u001b[0msource_str\u001b[0m \u001b[0;34m=\u001b[0m \u001b[0mself\u001b[0m\u001b[0;34m.\u001b[0m\u001b[0murl\u001b[0m \u001b[0;32mif\u001b[0m \u001b[0mhasattr\u001b[0m\u001b[0;34m(\u001b[0m\u001b[0mself\u001b[0m\u001b[0;34m,\u001b[0m \u001b[0;34m\"url\"\u001b[0m\u001b[0;34m)\u001b[0m \u001b[0;32melse\u001b[0m \u001b[0;34m\"Source\"\u001b[0m\u001b[0;34m\u001b[0m\u001b[0;34m\u001b[0m\u001b[0m\n",
      "\u001b[0;31mInstagramLoginRedirectError\u001b[0m: Instagram is redirecting you to the login page instead of the page you are trying to scrape. This could be occuring because you made too many requests too quickly or are not logged into Instagram on your machine. Try passing a valid session ID to the scrape method as a cookie to bypass the login requirement"
     ]
    }
   ],
   "source": [
    "from selenium.webdriver import Chrome\n",
    "from instascrape import Profile, scrape_posts\n",
    "\n",
    "# Creating our webdriver\n",
    "webdriver = Chrome(\"/usr/bin/chromedriver\")\n",
    "\n",
    "# Scraping Joe Biden's profile\n",
    "SESSIONID = '49595509200%3AtlMIcng6vl6xED%3A2'\n",
    "            \n",
    "\n",
    "#headers = {\"user-agent\": \"Mozilla/5.0 (Linux; Android 6.0; Nexus 5 Build/MRA58N) AppleWebKit/537.36 (KHTML, like Gecko) Chrome/87.0.4280.88 Mobile Safari/537.36 Edg/87.0.664.57\",\n",
    "#           \"cookie\": f\"sessionid={SESSIONID};\"}\n",
    "joe = Profile(test_profile)\n",
    "joe.scrape()\n",
    "\n",
    "# Scraping the posts\n",
    "posts = joe.get_posts(webdriver=webdriver, login_first=True)\n",
    "#posts = joe.get_posts(webdriver=webdriver)\n",
    "scraped, unscraped = scrape_posts(posts, silent=False, pause=10)"
   ]
  },
  {
   "cell_type": "code",
   "execution_count": 20,
   "id": "6a05826b",
   "metadata": {},
   "outputs": [
    {
     "name": "stdout",
     "output_type": "stream",
     "text": [
      "Collecting instagramy\n",
      "  Downloading instagramy-4.4-py3-none-any.whl (20 kB)\n",
      "Installing collected packages: instagramy\n",
      "Successfully installed instagramy-4.4\n"
     ]
    }
   ],
   "source": [
    "!pip install instagramy\n"
   ]
  },
  {
   "cell_type": "code",
   "execution_count": 21,
   "id": "cf2face5",
   "metadata": {},
   "outputs": [],
   "source": [
    "from instagramy import InstagramUser"
   ]
  },
  {
   "cell_type": "code",
   "execution_count": 22,
   "id": "a5843dac",
   "metadata": {},
   "outputs": [],
   "source": [
    "session_id = \"49595509200%3AtlMIcng6vl6xED%3A2\""
   ]
  },
  {
   "cell_type": "code",
   "execution_count": 26,
   "id": "b93cca0c",
   "metadata": {},
   "outputs": [],
   "source": [
    "user = InstagramUser(test_profile,sessionid=session_id)"
   ]
  },
  {
   "cell_type": "code",
   "execution_count": 27,
   "id": "02fa2eee",
   "metadata": {},
   "outputs": [
    {
     "data": {
      "text/plain": [
       "True"
      ]
     },
     "execution_count": 27,
     "metadata": {},
     "output_type": "execute_result"
    }
   ],
   "source": [
    "user.is_verified"
   ]
  },
  {
   "cell_type": "code",
   "execution_count": 31,
   "id": "24fffa4a",
   "metadata": {},
   "outputs": [
    {
     "data": {
      "text/plain": [
       "12"
      ]
     },
     "execution_count": 31,
     "metadata": {},
     "output_type": "execute_result"
    }
   ],
   "source": [
    "len(user.posts)"
   ]
  },
  {
   "cell_type": "markdown",
   "id": "e893d62a",
   "metadata": {},
   "source": [
    "### Instagram-Scraper"
   ]
  },
  {
   "cell_type": "code",
   "execution_count": 48,
   "id": "d80ab680",
   "metadata": {},
   "outputs": [
    {
     "name": "stdout",
     "output_type": "stream",
     "text": [
      "Collecting instagram-scraper==1.9.0\n",
      "  Downloading instagram-scraper-1.9.0.tar.gz (35 kB)\n",
      "Requirement already satisfied: requests>=2.18.4 in /home/mlkorra/anaconda3/envs/nlp/lib/python3.7/site-packages (from instagram-scraper==1.9.0) (2.26.0)\n",
      "Requirement already satisfied: tqdm>=3.8.0 in /home/mlkorra/anaconda3/envs/nlp/lib/python3.7/site-packages (from instagram-scraper==1.9.0) (4.62.3)\n",
      "Collecting moviepy>=1.0.0\n",
      "  Downloading moviepy-1.0.3.tar.gz (388 kB)\n",
      "\u001b[K     |████████████████████████████████| 388 kB 285 kB/s eta 0:00:01\n",
      "\u001b[?25hCollecting decorator<5.0,>=4.0.2\n",
      "  Downloading decorator-4.4.2-py2.py3-none-any.whl (9.2 kB)\n",
      "Collecting proglog<=1.0.0\n",
      "  Downloading proglog-0.1.9.tar.gz (10 kB)\n",
      "Requirement already satisfied: numpy>=1.17.3 in /home/mlkorra/anaconda3/envs/nlp/lib/python3.7/site-packages (from moviepy>=1.0.0->instagram-scraper==1.9.0) (1.21.2)\n",
      "Collecting imageio<3.0,>=2.5\n",
      "  Downloading imageio-2.9.0-py3-none-any.whl (3.3 MB)\n",
      "\u001b[K     |████████████████████████████████| 3.3 MB 385 kB/s eta 0:00:01\n",
      "\u001b[?25hCollecting imageio_ffmpeg>=0.2.0\n",
      "  Downloading imageio_ffmpeg-0.4.5-py3-none-manylinux2010_x86_64.whl (26.9 MB)\n",
      "\u001b[K     |████████████████████████████████| 26.9 MB 1.1 MB/s eta 0:00:011   |█▋                              | 1.4 MB 1.1 MB/s eta 0:00:23\n",
      "\u001b[?25hRequirement already satisfied: pillow in /home/mlkorra/anaconda3/envs/nlp/lib/python3.7/site-packages (from imageio<3.0,>=2.5->moviepy>=1.0.0->instagram-scraper==1.9.0) (8.3.2)\n",
      "Requirement already satisfied: charset-normalizer~=2.0.0 in /home/mlkorra/anaconda3/envs/nlp/lib/python3.7/site-packages (from requests>=2.18.4->instagram-scraper==1.9.0) (2.0.6)\n",
      "Requirement already satisfied: certifi>=2017.4.17 in /home/mlkorra/anaconda3/envs/nlp/lib/python3.7/site-packages (from requests>=2.18.4->instagram-scraper==1.9.0) (2021.5.30)\n",
      "Requirement already satisfied: urllib3<1.27,>=1.21.1 in /home/mlkorra/anaconda3/envs/nlp/lib/python3.7/site-packages (from requests>=2.18.4->instagram-scraper==1.9.0) (1.26.6)\n",
      "Requirement already satisfied: idna<4,>=2.5 in /home/mlkorra/anaconda3/envs/nlp/lib/python3.7/site-packages (from requests>=2.18.4->instagram-scraper==1.9.0) (3.2)\n",
      "Building wheels for collected packages: instagram-scraper, moviepy, proglog\n",
      "  Building wheel for instagram-scraper (setup.py) ... \u001b[?25ldone\n",
      "\u001b[?25h  Created wheel for instagram-scraper: filename=instagram_scraper-1.9.0-py3-none-any.whl size=35678 sha256=73c8b82d3048871456f63f94f519debcab73c72c9f4555b592ea1fd45065b080\n",
      "  Stored in directory: /home/mlkorra/.cache/pip/wheels/4a/28/cf/b0b93a08fc6d3e1a7a31ff99b93c00c466c5d2b07914cda791\n",
      "  Building wheel for moviepy (setup.py) ... \u001b[?25ldone\n",
      "\u001b[?25h  Created wheel for moviepy: filename=moviepy-1.0.3-py3-none-any.whl size=110744 sha256=1ee629d5ce36aa9b25bf6dc30ddcdd2a38501dfb44c9e5b2663a7ca3043758b3\n",
      "  Stored in directory: /home/mlkorra/.cache/pip/wheels/56/dc/2b/9cd600d483c04af3353d66623056fc03faed76b7518faae4df\n",
      "  Building wheel for proglog (setup.py) ... \u001b[?25ldone\n",
      "\u001b[?25h  Created wheel for proglog: filename=proglog-0.1.9-py3-none-any.whl size=6157 sha256=a106681ec6b469380ea04f27a074a878f05435af31de39808b9c077c7b960936\n",
      "  Stored in directory: /home/mlkorra/.cache/pip/wheels/12/36/1f/dc61e6ac10781d63cf6fa045eb09fa613a667384e12cb6e6e0\n",
      "Successfully built instagram-scraper moviepy proglog\n",
      "Installing collected packages: proglog, imageio-ffmpeg, imageio, decorator, moviepy, instagram-scraper\n",
      "  Attempting uninstall: decorator\n",
      "    Found existing installation: decorator 5.0.9\n",
      "    Uninstalling decorator-5.0.9:\n",
      "      Successfully uninstalled decorator-5.0.9\n",
      "Successfully installed decorator-4.4.2 imageio-2.9.0 imageio-ffmpeg-0.4.5 instagram-scraper-1.9.0 moviepy-1.0.3 proglog-0.1.9\n"
     ]
    }
   ],
   "source": [
    "!pip install instagram-scraper==1.9.0"
   ]
  },
  {
   "cell_type": "code",
   "execution_count": 2,
   "id": "b3c4833c",
   "metadata": {},
   "outputs": [
    {
     "name": "stdout",
     "output_type": "stream",
     "text": [
      "Searching mullo_ka_.jija for profile pic: 100% 1/1 [00:00<00:00, 2565.32 images/s]\n",
      "Searching mullo_ka_.jija for posts: 20 media [00:01, 12.47 media/s]\n",
      "Downloading: 100%|##########| 20/20 [00:03<00:00,  5.91it/s]\n"
     ]
    }
   ],
   "source": [
    "!instagram-scraper -f users.txt "
   ]
  },
  {
   "cell_type": "code",
   "execution_count": 44,
   "id": "2eeae66e",
   "metadata": {},
   "outputs": [
    {
     "name": "stdout",
     "output_type": "stream",
     "text": [
      "/bin/bash: instagram-scraper: command not found\r\n"
     ]
    }
   ],
   "source": [
    "!instagram-scraper -f users.txt"
   ]
  },
  {
   "cell_type": "code",
   "execution_count": 47,
   "id": "c6f3f746",
   "metadata": {},
   "outputs": [
    {
     "name": "stdout",
     "output_type": "stream",
     "text": [
      "Found existing installation: instagram-scraper 1.10.2\r\n",
      "Uninstalling instagram-scraper-1.10.2:\r\n",
      "  Successfully uninstalled instagram-scraper-1.10.2\r\n"
     ]
    }
   ],
   "source": [
    "!pip uninstall instagram-scraper --yes"
   ]
  },
  {
   "cell_type": "code",
   "execution_count": null,
   "id": "21e9894e",
   "metadata": {},
   "outputs": [],
   "source": []
  }
 ],
 "metadata": {
  "kernelspec": {
   "display_name": "nlp",
   "language": "python",
   "name": "nlp"
  },
  "language_info": {
   "codemirror_mode": {
    "name": "ipython",
    "version": 3
   },
   "file_extension": ".py",
   "mimetype": "text/x-python",
   "name": "python",
   "nbconvert_exporter": "python",
   "pygments_lexer": "ipython3",
   "version": "3.7.11"
  }
 },
 "nbformat": 4,
 "nbformat_minor": 5
}

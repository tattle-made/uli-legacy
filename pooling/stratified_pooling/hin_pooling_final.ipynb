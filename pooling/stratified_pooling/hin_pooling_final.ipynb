{
  "nbformat": 4,
  "nbformat_minor": 0,
  "metadata": {
    "colab": {
      "name": "hin_pooling_final.ipynb",
      "provenance": []
    },
    "kernelspec": {
      "name": "python3",
      "display_name": "Python 3"
    },
    "language_info": {
      "name": "python"
    }
  },
  "cells": [
    {
      "cell_type": "code",
      "source": [
        "from google.colab import drive\n",
        "drive.mount('/content/drive')"
      ],
      "metadata": {
        "colab": {
          "base_uri": "https://localhost:8080/"
        },
        "id": "N8Pu8-psjLaP",
        "outputId": "57fc1081-f630-4199-c81d-c5e0f8207479"
      },
      "execution_count": 1,
      "outputs": [
        {
          "output_type": "stream",
          "name": "stdout",
          "text": [
            "Mounted at /content/drive\n"
          ]
        }
      ]
    },
    {
      "cell_type": "code",
      "source": [
        "import pandas as pd"
      ],
      "metadata": {
        "id": "X0J4OS9CjZuo"
      },
      "execution_count": 2,
      "outputs": []
    },
    {
      "cell_type": "code",
      "source": [
        "import numpy as np"
      ],
      "metadata": {
        "id": "H3mWjwltjxhE"
      },
      "execution_count": 3,
      "outputs": []
    },
    {
      "cell_type": "code",
      "source": [
        "dff = pd.read_csv(\"/content/drive/MyDrive/full_inference/hin/hin_conf_full.csv\",lineterminator=\"\\n\")\n"
      ],
      "metadata": {
        "id": "j_lq7qGE4Cy-"
      },
      "execution_count": 4,
      "outputs": []
    },
    {
      "cell_type": "code",
      "source": [
        "tot=pd.read_csv('/content/drive/MyDrive/total_data_twitter.csv',lineterminator=\"\\n\")"
      ],
      "metadata": {
        "colab": {
          "base_uri": "https://localhost:8080/"
        },
        "id": "KRsFqOW8MU_B",
        "outputId": "d52fe425-fd4c-4098-de8d-8f0c37253bb6"
      },
      "execution_count": 5,
      "outputs": [
        {
          "output_type": "stream",
          "name": "stderr",
          "text": [
            "/usr/local/lib/python3.7/dist-packages/IPython/core/interactiveshell.py:2882: DtypeWarning: Columns (11,17,24,31) have mixed types.Specify dtype option on import or set low_memory=False.\n",
            "  exec(code_obj, self.user_global_ns, self.user_ns)\n"
          ]
        }
      ]
    },
    {
      "cell_type": "code",
      "source": [
        "tot=tot[['_id','language','content_type']]"
      ],
      "metadata": {
        "id": "zlgyCkYSMahC"
      },
      "execution_count": 6,
      "outputs": []
    },
    {
      "cell_type": "code",
      "source": [
        "df=dff.merge(tot, on='_id', how='inner')\n"
      ],
      "metadata": {
        "id": "_Q_PgPsyMXSs"
      },
      "execution_count": 7,
      "outputs": []
    },
    {
      "cell_type": "code",
      "source": [
        "df.shape"
      ],
      "metadata": {
        "colab": {
          "base_uri": "https://localhost:8080/"
        },
        "id": "UaCIywXIMwW9",
        "outputId": "edeb806d-9861-4f0f-ace2-3deddda0c3d0"
      },
      "execution_count": 8,
      "outputs": [
        {
          "output_type": "execute_result",
          "data": {
            "text/plain": [
              "(266522, 11)"
            ]
          },
          "metadata": {},
          "execution_count": 8
        }
      ]
    },
    {
      "cell_type": "code",
      "source": [
        "df=df.loc[df['content_type'] == 'text'] #no images,videos and gifs\n"
      ],
      "metadata": {
        "id": "CyZQJmFDMIKs"
      },
      "execution_count": 9,
      "outputs": []
    },
    {
      "cell_type": "code",
      "source": [
        "df.shape"
      ],
      "metadata": {
        "colab": {
          "base_uri": "https://localhost:8080/"
        },
        "id": "VYTmr_x1M0YW",
        "outputId": "2949516f-6336-4a2d-ffbd-7b1ddebbf7b3"
      },
      "execution_count": 10,
      "outputs": [
        {
          "output_type": "execute_result",
          "data": {
            "text/plain": [
              "(242992, 11)"
            ]
          },
          "metadata": {},
          "execution_count": 10
        }
      ]
    },
    {
      "cell_type": "code",
      "source": [
        "df=df.drop_duplicates(subset=['tweet']) #remove suplicates based on tweet\n"
      ],
      "metadata": {
        "id": "BGoFaKe17EeG"
      },
      "execution_count": 15,
      "outputs": []
    },
    {
      "cell_type": "code",
      "source": [
        "df.shape"
      ],
      "metadata": {
        "colab": {
          "base_uri": "https://localhost:8080/"
        },
        "id": "JpProNYE7Fd4",
        "outputId": "d8281dd2-14e6-45dd-9f73-4a0f142252cb"
      },
      "execution_count": 16,
      "outputs": [
        {
          "output_type": "execute_result",
          "data": {
            "text/plain": [
              "(237356, 11)"
            ]
          },
          "metadata": {},
          "execution_count": 16
        }
      ]
    },
    {
      "cell_type": "code",
      "source": [
        "cols = ['hinconst21_hibert_confidence', 'hinhasoc20_l3_confidence','hintrac1_confidence','hintrac2a_confidence']\n",
        "df['mean_all'] = df[cols].mean(axis=1)\n",
        "df.sort_values(by='mean_all', ascending=False, inplace=True)"
      ],
      "metadata": {
        "id": "cvpYxl3ijTiW"
      },
      "execution_count": 17,
      "outputs": []
    },
    {
      "cell_type": "code",
      "source": [
        "df"
      ],
      "metadata": {
        "colab": {
          "base_uri": "https://localhost:8080/",
          "height": 835
        },
        "id": "tag2gR2jyXlR",
        "outputId": "b69e737a-dd75-4116-ea0b-c4db459499bb"
      },
      "execution_count": 18,
      "outputs": [
        {
          "output_type": "execute_result",
          "data": {
            "text/html": [
              "\n",
              "  <div id=\"df-49c28cb1-a72f-49cc-81b7-7f1daadff411\">\n",
              "    <div class=\"colab-df-container\">\n",
              "      <div>\n",
              "<style scoped>\n",
              "    .dataframe tbody tr th:only-of-type {\n",
              "        vertical-align: middle;\n",
              "    }\n",
              "\n",
              "    .dataframe tbody tr th {\n",
              "        vertical-align: top;\n",
              "    }\n",
              "\n",
              "    .dataframe thead th {\n",
              "        text-align: right;\n",
              "    }\n",
              "</style>\n",
              "<table border=\"1\" class=\"dataframe\">\n",
              "  <thead>\n",
              "    <tr style=\"text-align: right;\">\n",
              "      <th></th>\n",
              "      <th>Unnamed: 0</th>\n",
              "      <th>_id</th>\n",
              "      <th>tweet_id</th>\n",
              "      <th>tweet</th>\n",
              "      <th>hinconst21_hibert_confidence</th>\n",
              "      <th>search</th>\n",
              "      <th>hinhasoc20_l3_confidence</th>\n",
              "      <th>hintrac1_confidence</th>\n",
              "      <th>hintrac2a_confidence</th>\n",
              "      <th>language</th>\n",
              "      <th>content_type</th>\n",
              "      <th>mean_all</th>\n",
              "    </tr>\n",
              "  </thead>\n",
              "  <tbody>\n",
              "    <tr>\n",
              "      <th>23829</th>\n",
              "      <td>23829</td>\n",
              "      <td>61c1bf64886c615c5743c114</td>\n",
              "      <td>1439635555529248772</td>\n",
              "      <td>ये तो बावला होंजाएगा चलो तलवे चाटने और दरबार म...</td>\n",
              "      <td>1.0</td>\n",
              "      <td>मुजरा</td>\n",
              "      <td>1.0</td>\n",
              "      <td>0.91</td>\n",
              "      <td>0.89</td>\n",
              "      <td>hi</td>\n",
              "      <td>text</td>\n",
              "      <td>0.95</td>\n",
              "    </tr>\n",
              "    <tr>\n",
              "      <th>112257</th>\n",
              "      <td>112257</td>\n",
              "      <td>61cb45341d947ed5f33318f1</td>\n",
              "      <td>1445788990741749760</td>\n",
              "      <td>भोसडीके\" जय हींद \" जो तुने राजनीती कर रहा है।य...</td>\n",
              "      <td>1.0</td>\n",
              "      <td>भोस्डीके</td>\n",
              "      <td>1.0</td>\n",
              "      <td>0.91</td>\n",
              "      <td>0.89</td>\n",
              "      <td>hi</td>\n",
              "      <td>text</td>\n",
              "      <td>0.95</td>\n",
              "    </tr>\n",
              "    <tr>\n",
              "      <th>94102</th>\n",
              "      <td>94102</td>\n",
              "      <td>61cb3233a144172bdda52b7a</td>\n",
              "      <td>1266365792091701251</td>\n",
              "      <td>एक नया मादरजात पैदा हुआ है जिसका नाम है दीपक झ...</td>\n",
              "      <td>1.0</td>\n",
              "      <td>मादरजात</td>\n",
              "      <td>1.0</td>\n",
              "      <td>0.91</td>\n",
              "      <td>0.89</td>\n",
              "      <td>hi</td>\n",
              "      <td>text</td>\n",
              "      <td>0.95</td>\n",
              "    </tr>\n",
              "    <tr>\n",
              "      <th>173200</th>\n",
              "      <td>173200</td>\n",
              "      <td>61e51a460843dffd91b229b6</td>\n",
              "      <td>1076287904937324545</td>\n",
              "      <td>@RKhatri14 मुल्ले पाकिस्तान जाये और हिन्दू तो ...</td>\n",
              "      <td>1.0</td>\n",
              "      <td>कुत्ती</td>\n",
              "      <td>1.0</td>\n",
              "      <td>0.91</td>\n",
              "      <td>0.89</td>\n",
              "      <td>hi</td>\n",
              "      <td>text</td>\n",
              "      <td>0.95</td>\n",
              "    </tr>\n",
              "    <tr>\n",
              "      <th>105973</th>\n",
              "      <td>105973</td>\n",
              "      <td>61cb4008874027a5e071797e</td>\n",
              "      <td>1219292002795180032</td>\n",
              "      <td>#SecularMaskOfd हमे पता नहि क्या कहते है ,इतना...</td>\n",
              "      <td>1.0</td>\n",
              "      <td>हरामी</td>\n",
              "      <td>1.0</td>\n",
              "      <td>0.91</td>\n",
              "      <td>0.89</td>\n",
              "      <td>hi</td>\n",
              "      <td>text</td>\n",
              "      <td>0.95</td>\n",
              "    </tr>\n",
              "    <tr>\n",
              "      <th>...</th>\n",
              "      <td>...</td>\n",
              "      <td>...</td>\n",
              "      <td>...</td>\n",
              "      <td>...</td>\n",
              "      <td>...</td>\n",
              "      <td>...</td>\n",
              "      <td>...</td>\n",
              "      <td>...</td>\n",
              "      <td>...</td>\n",
              "      <td>...</td>\n",
              "      <td>...</td>\n",
              "      <td>...</td>\n",
              "    </tr>\n",
              "    <tr>\n",
              "      <th>240561</th>\n",
              "      <td>240561</td>\n",
              "      <td>61e18a7672115c8f12abad09</td>\n",
              "      <td>1185508072875184128</td>\n",
              "      <td>@PoonamHockey शुभकामनाएं 💐💐💐💐💐</td>\n",
              "      <td>0.0</td>\n",
              "      <td>PoonamHockey</td>\n",
              "      <td>0.0</td>\n",
              "      <td>0.14</td>\n",
              "      <td>0.02</td>\n",
              "      <td>hi</td>\n",
              "      <td>text</td>\n",
              "      <td>0.04</td>\n",
              "    </tr>\n",
              "    <tr>\n",
              "      <th>226433</th>\n",
              "      <td>226433</td>\n",
              "      <td>61e1155fcc498f75d018733c</td>\n",
              "      <td>1419250418807316480</td>\n",
              "      <td>@sanaak21 @AshrafZohoor आपकी राय?  https://t.c...</td>\n",
              "      <td>0.0</td>\n",
              "      <td>sanaak21</td>\n",
              "      <td>0.0</td>\n",
              "      <td>0.14</td>\n",
              "      <td>0.02</td>\n",
              "      <td>hi</td>\n",
              "      <td>text</td>\n",
              "      <td>0.04</td>\n",
              "    </tr>\n",
              "    <tr>\n",
              "      <th>230583</th>\n",
              "      <td>230583</td>\n",
              "      <td>61e124b2d27c0a6f757eb6ac</td>\n",
              "      <td>1343916664837066752</td>\n",
              "      <td>@mangeshkarlata 💐💐कोटी कोटी नमन 🙏🙏</td>\n",
              "      <td>0.0</td>\n",
              "      <td>mangeshkarlata</td>\n",
              "      <td>0.0</td>\n",
              "      <td>0.14</td>\n",
              "      <td>0.02</td>\n",
              "      <td>hi</td>\n",
              "      <td>text</td>\n",
              "      <td>0.04</td>\n",
              "    </tr>\n",
              "    <tr>\n",
              "      <th>236742</th>\n",
              "      <td>236742</td>\n",
              "      <td>61e137391bdc4f8ef30a05ee</td>\n",
              "      <td>1210074299140210688</td>\n",
              "      <td>@realshooterdadi नमन सरदार जी🙏🙏</td>\n",
              "      <td>0.0</td>\n",
              "      <td>realshooterdadi</td>\n",
              "      <td>0.0</td>\n",
              "      <td>0.14</td>\n",
              "      <td>0.02</td>\n",
              "      <td>hi</td>\n",
              "      <td>text</td>\n",
              "      <td>0.04</td>\n",
              "    </tr>\n",
              "    <tr>\n",
              "      <th>238296</th>\n",
              "      <td>238296</td>\n",
              "      <td>61e13b6f05d2110784ed3101</td>\n",
              "      <td>1339467318850510849</td>\n",
              "      <td>@realshooterdadi ओम शांति 🙏</td>\n",
              "      <td>0.0</td>\n",
              "      <td>realshooterdadi</td>\n",
              "      <td>0.0</td>\n",
              "      <td>0.14</td>\n",
              "      <td>0.02</td>\n",
              "      <td>hi</td>\n",
              "      <td>text</td>\n",
              "      <td>0.04</td>\n",
              "    </tr>\n",
              "  </tbody>\n",
              "</table>\n",
              "<p>237356 rows × 12 columns</p>\n",
              "</div>\n",
              "      <button class=\"colab-df-convert\" onclick=\"convertToInteractive('df-49c28cb1-a72f-49cc-81b7-7f1daadff411')\"\n",
              "              title=\"Convert this dataframe to an interactive table.\"\n",
              "              style=\"display:none;\">\n",
              "        \n",
              "  <svg xmlns=\"http://www.w3.org/2000/svg\" height=\"24px\"viewBox=\"0 0 24 24\"\n",
              "       width=\"24px\">\n",
              "    <path d=\"M0 0h24v24H0V0z\" fill=\"none\"/>\n",
              "    <path d=\"M18.56 5.44l.94 2.06.94-2.06 2.06-.94-2.06-.94-.94-2.06-.94 2.06-2.06.94zm-11 1L8.5 8.5l.94-2.06 2.06-.94-2.06-.94L8.5 2.5l-.94 2.06-2.06.94zm10 10l.94 2.06.94-2.06 2.06-.94-2.06-.94-.94-2.06-.94 2.06-2.06.94z\"/><path d=\"M17.41 7.96l-1.37-1.37c-.4-.4-.92-.59-1.43-.59-.52 0-1.04.2-1.43.59L10.3 9.45l-7.72 7.72c-.78.78-.78 2.05 0 2.83L4 21.41c.39.39.9.59 1.41.59.51 0 1.02-.2 1.41-.59l7.78-7.78 2.81-2.81c.8-.78.8-2.07 0-2.86zM5.41 20L4 18.59l7.72-7.72 1.47 1.35L5.41 20z\"/>\n",
              "  </svg>\n",
              "      </button>\n",
              "      \n",
              "  <style>\n",
              "    .colab-df-container {\n",
              "      display:flex;\n",
              "      flex-wrap:wrap;\n",
              "      gap: 12px;\n",
              "    }\n",
              "\n",
              "    .colab-df-convert {\n",
              "      background-color: #E8F0FE;\n",
              "      border: none;\n",
              "      border-radius: 50%;\n",
              "      cursor: pointer;\n",
              "      display: none;\n",
              "      fill: #1967D2;\n",
              "      height: 32px;\n",
              "      padding: 0 0 0 0;\n",
              "      width: 32px;\n",
              "    }\n",
              "\n",
              "    .colab-df-convert:hover {\n",
              "      background-color: #E2EBFA;\n",
              "      box-shadow: 0px 1px 2px rgba(60, 64, 67, 0.3), 0px 1px 3px 1px rgba(60, 64, 67, 0.15);\n",
              "      fill: #174EA6;\n",
              "    }\n",
              "\n",
              "    [theme=dark] .colab-df-convert {\n",
              "      background-color: #3B4455;\n",
              "      fill: #D2E3FC;\n",
              "    }\n",
              "\n",
              "    [theme=dark] .colab-df-convert:hover {\n",
              "      background-color: #434B5C;\n",
              "      box-shadow: 0px 1px 3px 1px rgba(0, 0, 0, 0.15);\n",
              "      filter: drop-shadow(0px 1px 2px rgba(0, 0, 0, 0.3));\n",
              "      fill: #FFFFFF;\n",
              "    }\n",
              "  </style>\n",
              "\n",
              "      <script>\n",
              "        const buttonEl =\n",
              "          document.querySelector('#df-49c28cb1-a72f-49cc-81b7-7f1daadff411 button.colab-df-convert');\n",
              "        buttonEl.style.display =\n",
              "          google.colab.kernel.accessAllowed ? 'block' : 'none';\n",
              "\n",
              "        async function convertToInteractive(key) {\n",
              "          const element = document.querySelector('#df-49c28cb1-a72f-49cc-81b7-7f1daadff411');\n",
              "          const dataTable =\n",
              "            await google.colab.kernel.invokeFunction('convertToInteractive',\n",
              "                                                     [key], {});\n",
              "          if (!dataTable) return;\n",
              "\n",
              "          const docLinkHtml = 'Like what you see? Visit the ' +\n",
              "            '<a target=\"_blank\" href=https://colab.research.google.com/notebooks/data_table.ipynb>data table notebook</a>'\n",
              "            + ' to learn more about interactive tables.';\n",
              "          element.innerHTML = '';\n",
              "          dataTable['output_type'] = 'display_data';\n",
              "          await google.colab.output.renderOutput(dataTable, element);\n",
              "          const docLink = document.createElement('div');\n",
              "          docLink.innerHTML = docLinkHtml;\n",
              "          element.appendChild(docLink);\n",
              "        }\n",
              "      </script>\n",
              "    </div>\n",
              "  </div>\n",
              "  "
            ],
            "text/plain": [
              "        Unnamed: 0                       _id  ...  content_type mean_all\n",
              "23829        23829  61c1bf64886c615c5743c114  ...          text     0.95\n",
              "112257      112257  61cb45341d947ed5f33318f1  ...          text     0.95\n",
              "94102        94102  61cb3233a144172bdda52b7a  ...          text     0.95\n",
              "173200      173200  61e51a460843dffd91b229b6  ...          text     0.95\n",
              "105973      105973  61cb4008874027a5e071797e  ...          text     0.95\n",
              "...            ...                       ...  ...           ...      ...\n",
              "240561      240561  61e18a7672115c8f12abad09  ...          text     0.04\n",
              "226433      226433  61e1155fcc498f75d018733c  ...          text     0.04\n",
              "230583      230583  61e124b2d27c0a6f757eb6ac  ...          text     0.04\n",
              "236742      236742  61e137391bdc4f8ef30a05ee  ...          text     0.04\n",
              "238296      238296  61e13b6f05d2110784ed3101  ...          text     0.04\n",
              "\n",
              "[237356 rows x 12 columns]"
            ]
          },
          "metadata": {},
          "execution_count": 18
        }
      ]
    },
    {
      "cell_type": "code",
      "source": [
        "df['mean_all'] = df['mean_all'].apply(lambda x: np.round(x, 2))"
      ],
      "metadata": {
        "id": "FAj4kvIrjmPL"
      },
      "execution_count": 19,
      "outputs": []
    },
    {
      "cell_type": "code",
      "source": [
        "df['mean_all'].plot(kind='hist')"
      ],
      "metadata": {
        "colab": {
          "base_uri": "https://localhost:8080/",
          "height": 285
        },
        "id": "mbIE5UzWkCF_",
        "outputId": "cda394bc-fdef-4885-a2a9-567614a83edb"
      },
      "execution_count": 20,
      "outputs": [
        {
          "output_type": "execute_result",
          "data": {
            "text/plain": [
              "<matplotlib.axes._subplots.AxesSubplot at 0x7f3be326ad10>"
            ]
          },
          "metadata": {},
          "execution_count": 20
        },
        {
          "output_type": "display_data",
          "data": {
            "image/png": "[encoded data removed]",
            "text/plain": [
              "<Figure size 432x288 with 1 Axes>"
            ]
          },
          "metadata": {
            "needs_background": "light"
          }
        }
      ]
    },
    {
      "cell_type": "code",
      "source": [
        "df1= df[df['mean_all'].between(0, 0.1,inclusive='both')]\n",
        "df2= df[df['mean_all'].between(0.11, 0.2,inclusive='both')]\n",
        "df3= df[df['mean_all'].between(0.21, 0.3,inclusive='both')]\n",
        "df4= df[df['mean_all'].between(0.31, 0.4,inclusive='both')]\n",
        "df5= df[df['mean_all'].between(0.41, 0.5,inclusive='both')]\n",
        "df6= df[df['mean_all'].between(0.51, 0.6,inclusive='both')]\n",
        "df7= df[df['mean_all'].between(0.61, 0.7,inclusive='both')]\n",
        "df8= df[df['mean_all'].between(0.71, 0.8,inclusive='both')]\n",
        "df9= df[df['mean_all'].between(0.81, 0.9,inclusive='both')]\n",
        "df10= df[df['mean_all'].between(0.91, 1,inclusive='both')]\n"
      ],
      "metadata": {
        "id": "GhqHD7141tb5"
      },
      "execution_count": 21,
      "outputs": []
    },
    {
      "cell_type": "code",
      "source": [
        "df1.shape"
      ],
      "metadata": {
        "colab": {
          "base_uri": "https://localhost:8080/"
        },
        "id": "BWnfNwCe4UVU",
        "outputId": "d88309e0-e73e-42cb-c188-a6b274f06300"
      },
      "execution_count": 22,
      "outputs": [
        {
          "output_type": "execute_result",
          "data": {
            "text/plain": [
              "(9844, 12)"
            ]
          },
          "metadata": {},
          "execution_count": 22
        }
      ]
    },
    {
      "cell_type": "code",
      "source": [
        "df2.shape"
      ],
      "metadata": {
        "colab": {
          "base_uri": "https://localhost:8080/"
        },
        "id": "rgrkBMfB4WG2",
        "outputId": "7ab4764f-6151-46ce-f995-b3f1ac4eb2e7"
      },
      "execution_count": 23,
      "outputs": [
        {
          "output_type": "execute_result",
          "data": {
            "text/plain": [
              "(17266, 12)"
            ]
          },
          "metadata": {},
          "execution_count": 23
        }
      ]
    },
    {
      "cell_type": "code",
      "source": [
        "df3.shape"
      ],
      "metadata": {
        "colab": {
          "base_uri": "https://localhost:8080/"
        },
        "id": "h1E2AO-k4WSD",
        "outputId": "75644ec3-b9ee-402e-ec96-607133d93cae"
      },
      "execution_count": 24,
      "outputs": [
        {
          "output_type": "execute_result",
          "data": {
            "text/plain": [
              "(22282, 12)"
            ]
          },
          "metadata": {},
          "execution_count": 24
        }
      ]
    },
    {
      "cell_type": "code",
      "source": [
        "df4.shape"
      ],
      "metadata": {
        "colab": {
          "base_uri": "https://localhost:8080/"
        },
        "id": "Q6Jrtssu4Wp2",
        "outputId": "d1e1849f-4649-4dec-bb3c-bd4ae1f61277"
      },
      "execution_count": 25,
      "outputs": [
        {
          "output_type": "execute_result",
          "data": {
            "text/plain": [
              "(24334, 12)"
            ]
          },
          "metadata": {},
          "execution_count": 25
        }
      ]
    },
    {
      "cell_type": "code",
      "source": [
        "df5.shape"
      ],
      "metadata": {
        "colab": {
          "base_uri": "https://localhost:8080/"
        },
        "id": "dVSglcOI4XIr",
        "outputId": "39fffb06-d3f0-450f-afa0-7105ca23400e"
      },
      "execution_count": 26,
      "outputs": [
        {
          "output_type": "execute_result",
          "data": {
            "text/plain": [
              "(27241, 12)"
            ]
          },
          "metadata": {},
          "execution_count": 26
        }
      ]
    },
    {
      "cell_type": "code",
      "source": [
        "df6.shape"
      ],
      "metadata": {
        "colab": {
          "base_uri": "https://localhost:8080/"
        },
        "id": "YEEmrWet4cHk",
        "outputId": "53b76613-418e-4d22-8716-8536319cbf7c"
      },
      "execution_count": 27,
      "outputs": [
        {
          "output_type": "execute_result",
          "data": {
            "text/plain": [
              "(37372, 12)"
            ]
          },
          "metadata": {},
          "execution_count": 27
        }
      ]
    },
    {
      "cell_type": "code",
      "source": [
        "df7.shape"
      ],
      "metadata": {
        "colab": {
          "base_uri": "https://localhost:8080/"
        },
        "id": "KVCAQoTd4eAx",
        "outputId": "8ecf9394-fb65-4812-b984-6b21d026f458"
      },
      "execution_count": 28,
      "outputs": [
        {
          "output_type": "execute_result",
          "data": {
            "text/plain": [
              "(39028, 12)"
            ]
          },
          "metadata": {},
          "execution_count": 28
        }
      ]
    },
    {
      "cell_type": "code",
      "source": [
        "df8.shape"
      ],
      "metadata": {
        "colab": {
          "base_uri": "https://localhost:8080/"
        },
        "id": "OCavb88e4fXv",
        "outputId": "c225ca59-5609-4c54-b5fd-5e327f38e698"
      },
      "execution_count": 29,
      "outputs": [
        {
          "output_type": "execute_result",
          "data": {
            "text/plain": [
              "(22438, 12)"
            ]
          },
          "metadata": {},
          "execution_count": 29
        }
      ]
    },
    {
      "cell_type": "code",
      "source": [
        "df9.shape"
      ],
      "metadata": {
        "colab": {
          "base_uri": "https://localhost:8080/"
        },
        "id": "iUwdIe2U4hND",
        "outputId": "adf1ac5b-87ef-4f95-e9b1-1b5c00917ca2"
      },
      "execution_count": 30,
      "outputs": [
        {
          "output_type": "execute_result",
          "data": {
            "text/plain": [
              "(17778, 12)"
            ]
          },
          "metadata": {},
          "execution_count": 30
        }
      ]
    },
    {
      "cell_type": "code",
      "source": [
        "df10.shape"
      ],
      "metadata": {
        "colab": {
          "base_uri": "https://localhost:8080/"
        },
        "id": "bl1NGhTc4it2",
        "outputId": "403eba44-54b9-4dfb-a786-bc36bb209f92"
      },
      "execution_count": 31,
      "outputs": [
        {
          "output_type": "execute_result",
          "data": {
            "text/plain": [
              "(19773, 12)"
            ]
          },
          "metadata": {},
          "execution_count": 31
        }
      ]
    },
    {
      "cell_type": "code",
      "source": [
        "df11=df1.sample(n=400,random_state=1)\n",
        "df12=df2.sample(n=800,random_state=1)\n",
        "df13=df3.sample(n=800,random_state=1)\n",
        "df14=df4.sample(n=1000,random_state=1)\n",
        "df15=df5.sample(n=1000,random_state=1)\n",
        "df16=df6.sample(n=1000,random_state=1)\n",
        "df17=df7.sample(n=1000,random_state=1)\n",
        "df18=df8.sample(n=800,random_state=1)\n",
        "df19=df9.sample(n=800,random_state=1)\n",
        "df20=df10.sample(n=400,random_state=1)"
      ],
      "metadata": {
        "id": "xIGZydoTngd5"
      },
      "execution_count": 32,
      "outputs": []
    },
    {
      "cell_type": "code",
      "source": [
        "frames = [df11,df12,df13,df14,df15,df16,df17,df18,df19,df20]\n"
      ],
      "metadata": {
        "id": "pQkJVDMQ502o"
      },
      "execution_count": 33,
      "outputs": []
    },
    {
      "cell_type": "code",
      "source": [
        "result = pd.concat(frames)\n",
        "display(result)"
      ],
      "metadata": {
        "colab": {
          "base_uri": "https://localhost:8080/",
          "height": 800
        },
        "id": "j8wJiWmo6I3t",
        "outputId": "9c4b654b-0e65-4c8d-b459-f8e782c35a69"
      },
      "execution_count": 34,
      "outputs": [
        {
          "output_type": "display_data",
          "data": {
            "text/html": [
              "\n",
              "  <div id=\"df-dedfbb5d-f0ca-4b4a-944a-03119b5786cd\">\n",
              "    <div class=\"colab-df-container\">\n",
              "      <div>\n",
              "<style scoped>\n",
              "    .dataframe tbody tr th:only-of-type {\n",
              "        vertical-align: middle;\n",
              "    }\n",
              "\n",
              "    .dataframe tbody tr th {\n",
              "        vertical-align: top;\n",
              "    }\n",
              "\n",
              "    .dataframe thead th {\n",
              "        text-align: right;\n",
              "    }\n",
              "</style>\n",
              "<table border=\"1\" class=\"dataframe\">\n",
              "  <thead>\n",
              "    <tr style=\"text-align: right;\">\n",
              "      <th></th>\n",
              "      <th>Unnamed: 0</th>\n",
              "      <th>_id</th>\n",
              "      <th>tweet_id</th>\n",
              "      <th>tweet</th>\n",
              "      <th>hinconst21_hibert_confidence</th>\n",
              "      <th>search</th>\n",
              "      <th>hinhasoc20_l3_confidence</th>\n",
              "      <th>hintrac1_confidence</th>\n",
              "      <th>hintrac2a_confidence</th>\n",
              "      <th>language</th>\n",
              "      <th>content_type</th>\n",
              "      <th>mean_all</th>\n",
              "    </tr>\n",
              "  </thead>\n",
              "  <tbody>\n",
              "    <tr>\n",
              "      <th>213089</th>\n",
              "      <td>213089</td>\n",
              "      <td>61dd3699f453ec932bdd7215</td>\n",
              "      <td>979223732878172161</td>\n",
              "      <td>@anishapadukone कृपया कर आपके ngo की जानकारी द...</td>\n",
              "      <td>0.00</td>\n",
              "      <td>anishapadukone</td>\n",
              "      <td>0.00</td>\n",
              "      <td>0.14</td>\n",
              "      <td>0.05</td>\n",
              "      <td>hi</td>\n",
              "      <td>text</td>\n",
              "      <td>0.05</td>\n",
              "    </tr>\n",
              "    <tr>\n",
              "      <th>245416</th>\n",
              "      <td>245416</td>\n",
              "      <td>61e1a42dff8ef2dfd8f9e30f</td>\n",
              "      <td>1189535643304517632</td>\n",
              "      <td>@anitahasnandani सो कोल्ड ड्रामा😂😂😂</td>\n",
              "      <td>0.03</td>\n",
              "      <td>anitahasnandani</td>\n",
              "      <td>0.03</td>\n",
              "      <td>0.14</td>\n",
              "      <td>0.02</td>\n",
              "      <td>hi</td>\n",
              "      <td>text</td>\n",
              "      <td>0.06</td>\n",
              "    </tr>\n",
              "    <tr>\n",
              "      <th>223654</th>\n",
              "      <td>223654</td>\n",
              "      <td>61e10b1e85ff1e72f741560e</td>\n",
              "      <td>1448960181203705859</td>\n",
              "      <td>@spruhavarad खूप छान👌</td>\n",
              "      <td>0.00</td>\n",
              "      <td>spruhavarad</td>\n",
              "      <td>0.00</td>\n",
              "      <td>0.14</td>\n",
              "      <td>0.02</td>\n",
              "      <td>hi</td>\n",
              "      <td>text</td>\n",
              "      <td>0.04</td>\n",
              "    </tr>\n",
              "    <tr>\n",
              "      <th>263646</th>\n",
              "      <td>263646</td>\n",
              "      <td>61e480a5c125920a4b7b7169</td>\n",
              "      <td>1288463415799758849</td>\n",
              "      <td>@salonayy Acchaa Acchaa 😂😂😂</td>\n",
              "      <td>0.00</td>\n",
              "      <td>salonayy</td>\n",
              "      <td>0.20</td>\n",
              "      <td>0.14</td>\n",
              "      <td>0.02</td>\n",
              "      <td>hi</td>\n",
              "      <td>text</td>\n",
              "      <td>0.09</td>\n",
              "    </tr>\n",
              "    <tr>\n",
              "      <th>249904</th>\n",
              "      <td>249904</td>\n",
              "      <td>61e282b14cffadb7b4381d32</td>\n",
              "      <td>1193067203425292288</td>\n",
              "      <td>@moonstar4u जय श्री राम🚩</td>\n",
              "      <td>0.05</td>\n",
              "      <td>moonstar4u</td>\n",
              "      <td>0.00</td>\n",
              "      <td>0.14</td>\n",
              "      <td>0.03</td>\n",
              "      <td>hi</td>\n",
              "      <td>text</td>\n",
              "      <td>0.06</td>\n",
              "    </tr>\n",
              "    <tr>\n",
              "      <th>...</th>\n",
              "      <td>...</td>\n",
              "      <td>...</td>\n",
              "      <td>...</td>\n",
              "      <td>...</td>\n",
              "      <td>...</td>\n",
              "      <td>...</td>\n",
              "      <td>...</td>\n",
              "      <td>...</td>\n",
              "      <td>...</td>\n",
              "      <td>...</td>\n",
              "      <td>...</td>\n",
              "      <td>...</td>\n",
              "    </tr>\n",
              "    <tr>\n",
              "      <th>164475</th>\n",
              "      <td>164475</td>\n",
              "      <td>61e469219b81511f179f9f32</td>\n",
              "      <td>1200407934997614592</td>\n",
              "      <td>इन निकम्मो  के बस का नहीं, ये कुछ नहीं करेंगे ...</td>\n",
              "      <td>0.99</td>\n",
              "      <td>पिछवाड़ा</td>\n",
              "      <td>1.00</td>\n",
              "      <td>0.89</td>\n",
              "      <td>0.87</td>\n",
              "      <td>hi</td>\n",
              "      <td>text</td>\n",
              "      <td>0.94</td>\n",
              "    </tr>\n",
              "    <tr>\n",
              "      <th>106018</th>\n",
              "      <td>106018</td>\n",
              "      <td>61cb400c874027a5e0717992</td>\n",
              "      <td>1219275480487956480</td>\n",
              "      <td>@varnishant हरामी सिर्फ  Brahman में ही नहीं ह...</td>\n",
              "      <td>0.99</td>\n",
              "      <td>हरामी</td>\n",
              "      <td>1.00</td>\n",
              "      <td>0.85</td>\n",
              "      <td>0.87</td>\n",
              "      <td>hi</td>\n",
              "      <td>text</td>\n",
              "      <td>0.93</td>\n",
              "    </tr>\n",
              "    <tr>\n",
              "      <th>101629</th>\n",
              "      <td>101629</td>\n",
              "      <td>61cb3d442fa8b767a6dede80</td>\n",
              "      <td>1269655698838712320</td>\n",
              "      <td>मुस्लिमो से एक वात पूछना था।शरिया मे लिखा हे म...</td>\n",
              "      <td>0.99</td>\n",
              "      <td>शरिया</td>\n",
              "      <td>0.99</td>\n",
              "      <td>0.90</td>\n",
              "      <td>0.87</td>\n",
              "      <td>hi</td>\n",
              "      <td>text</td>\n",
              "      <td>0.94</td>\n",
              "    </tr>\n",
              "    <tr>\n",
              "      <th>78396</th>\n",
              "      <td>78396</td>\n",
              "      <td>61cb1a64d33b6977a2f3c2db</td>\n",
              "      <td>1300493842194415616</td>\n",
              "      <td>मोदी ने इसी कारण देसी कुकुरा पालने को बोला है।...</td>\n",
              "      <td>0.99</td>\n",
              "      <td>पॉटी</td>\n",
              "      <td>0.97</td>\n",
              "      <td>0.91</td>\n",
              "      <td>0.87</td>\n",
              "      <td>hi</td>\n",
              "      <td>text</td>\n",
              "      <td>0.94</td>\n",
              "    </tr>\n",
              "    <tr>\n",
              "      <th>163705</th>\n",
              "      <td>163705</td>\n",
              "      <td>61e46897a780e1b77eeeb673</td>\n",
              "      <td>1195494078353297408</td>\n",
              "      <td>गड़बड़ी मे पैदा हुए लोगों को हर जगह           ...</td>\n",
              "      <td>0.98</td>\n",
              "      <td>लिब्राण्डू</td>\n",
              "      <td>0.90</td>\n",
              "      <td>0.90</td>\n",
              "      <td>0.87</td>\n",
              "      <td>hi</td>\n",
              "      <td>text</td>\n",
              "      <td>0.91</td>\n",
              "    </tr>\n",
              "  </tbody>\n",
              "</table>\n",
              "<p>8000 rows × 12 columns</p>\n",
              "</div>\n",
              "      <button class=\"colab-df-convert\" onclick=\"convertToInteractive('df-dedfbb5d-f0ca-4b4a-944a-03119b5786cd')\"\n",
              "              title=\"Convert this dataframe to an interactive table.\"\n",
              "              style=\"display:none;\">\n",
              "        \n",
              "  <svg xmlns=\"http://www.w3.org/2000/svg\" height=\"24px\"viewBox=\"0 0 24 24\"\n",
              "       width=\"24px\">\n",
              "    <path d=\"M0 0h24v24H0V0z\" fill=\"none\"/>\n",
              "    <path d=\"M18.56 5.44l.94 2.06.94-2.06 2.06-.94-2.06-.94-.94-2.06-.94 2.06-2.06.94zm-11 1L8.5 8.5l.94-2.06 2.06-.94-2.06-.94L8.5 2.5l-.94 2.06-2.06.94zm10 10l.94 2.06.94-2.06 2.06-.94-2.06-.94-.94-2.06-.94 2.06-2.06.94z\"/><path d=\"M17.41 7.96l-1.37-1.37c-.4-.4-.92-.59-1.43-.59-.52 0-1.04.2-1.43.59L10.3 9.45l-7.72 7.72c-.78.78-.78 2.05 0 2.83L4 21.41c.39.39.9.59 1.41.59.51 0 1.02-.2 1.41-.59l7.78-7.78 2.81-2.81c.8-.78.8-2.07 0-2.86zM5.41 20L4 18.59l7.72-7.72 1.47 1.35L5.41 20z\"/>\n",
              "  </svg>\n",
              "      </button>\n",
              "      \n",
              "  <style>\n",
              "    .colab-df-container {\n",
              "      display:flex;\n",
              "      flex-wrap:wrap;\n",
              "      gap: 12px;\n",
              "    }\n",
              "\n",
              "    .colab-df-convert {\n",
              "      background-color: #E8F0FE;\n",
              "      border: none;\n",
              "      border-radius: 50%;\n",
              "      cursor: pointer;\n",
              "      display: none;\n",
              "      fill: #1967D2;\n",
              "      height: 32px;\n",
              "      padding: 0 0 0 0;\n",
              "      width: 32px;\n",
              "    }\n",
              "\n",
              "    .colab-df-convert:hover {\n",
              "      background-color: #E2EBFA;\n",
              "      box-shadow: 0px 1px 2px rgba(60, 64, 67, 0.3), 0px 1px 3px 1px rgba(60, 64, 67, 0.15);\n",
              "      fill: #174EA6;\n",
              "    }\n",
              "\n",
              "    [theme=dark] .colab-df-convert {\n",
              "      background-color: #3B4455;\n",
              "      fill: #D2E3FC;\n",
              "    }\n",
              "\n",
              "    [theme=dark] .colab-df-convert:hover {\n",
              "      background-color: #434B5C;\n",
              "      box-shadow: 0px 1px 3px 1px rgba(0, 0, 0, 0.15);\n",
              "      filter: drop-shadow(0px 1px 2px rgba(0, 0, 0, 0.3));\n",
              "      fill: #FFFFFF;\n",
              "    }\n",
              "  </style>\n",
              "\n",
              "      <script>\n",
              "        const buttonEl =\n",
              "          document.querySelector('#df-dedfbb5d-f0ca-4b4a-944a-03119b5786cd button.colab-df-convert');\n",
              "        buttonEl.style.display =\n",
              "          google.colab.kernel.accessAllowed ? 'block' : 'none';\n",
              "\n",
              "        async function convertToInteractive(key) {\n",
              "          const element = document.querySelector('#df-dedfbb5d-f0ca-4b4a-944a-03119b5786cd');\n",
              "          const dataTable =\n",
              "            await google.colab.kernel.invokeFunction('convertToInteractive',\n",
              "                                                     [key], {});\n",
              "          if (!dataTable) return;\n",
              "\n",
              "          const docLinkHtml = 'Like what you see? Visit the ' +\n",
              "            '<a target=\"_blank\" href=https://colab.research.google.com/notebooks/data_table.ipynb>data table notebook</a>'\n",
              "            + ' to learn more about interactive tables.';\n",
              "          element.innerHTML = '';\n",
              "          dataTable['output_type'] = 'display_data';\n",
              "          await google.colab.output.renderOutput(dataTable, element);\n",
              "          const docLink = document.createElement('div');\n",
              "          docLink.innerHTML = docLinkHtml;\n",
              "          element.appendChild(docLink);\n",
              "        }\n",
              "      </script>\n",
              "    </div>\n",
              "  </div>\n",
              "  "
            ],
            "text/plain": [
              "        Unnamed: 0                       _id  ...  content_type mean_all\n",
              "213089      213089  61dd3699f453ec932bdd7215  ...          text     0.05\n",
              "245416      245416  61e1a42dff8ef2dfd8f9e30f  ...          text     0.06\n",
              "223654      223654  61e10b1e85ff1e72f741560e  ...          text     0.04\n",
              "263646      263646  61e480a5c125920a4b7b7169  ...          text     0.09\n",
              "249904      249904  61e282b14cffadb7b4381d32  ...          text     0.06\n",
              "...            ...                       ...  ...           ...      ...\n",
              "164475      164475  61e469219b81511f179f9f32  ...          text     0.94\n",
              "106018      106018  61cb400c874027a5e0717992  ...          text     0.93\n",
              "101629      101629  61cb3d442fa8b767a6dede80  ...          text     0.94\n",
              "78396        78396  61cb1a64d33b6977a2f3c2db  ...          text     0.94\n",
              "163705      163705  61e46897a780e1b77eeeb673  ...          text     0.91\n",
              "\n",
              "[8000 rows x 12 columns]"
            ]
          },
          "metadata": {}
        }
      ]
    },
    {
      "cell_type": "code",
      "source": [
        "import re\n",
        "def remove_usernames_links(tweet):\n",
        "  tweet=re.sub(r'@(\\S+)\\s?','<handle replaced>',tweet)\n",
        "  tweet = re.sub('http[^\\s]+','',tweet) #remove links\n",
        "  return tweet\n",
        "result['tweet_edit'] = result['tweet'].apply(remove_usernames_links)"
      ],
      "metadata": {
        "id": "0u-jtzFn-kRP"
      },
      "execution_count": 35,
      "outputs": []
    },
    {
      "cell_type": "code",
      "source": [
        "result"
      ],
      "metadata": {
        "colab": {
          "base_uri": "https://localhost:8080/",
          "height": 870
        },
        "id": "fUZoYyGvIeJt",
        "outputId": "5727e925-5736-4215-99eb-7c63d27138bb"
      },
      "execution_count": 36,
      "outputs": [
        {
          "output_type": "execute_result",
          "data": {
            "text/html": [
              "\n",
              "  <div id=\"df-1d61aa19-a340-4bcf-817c-81748b5c6df7\">\n",
              "    <div class=\"colab-df-container\">\n",
              "      <div>\n",
              "<style scoped>\n",
              "    .dataframe tbody tr th:only-of-type {\n",
              "        vertical-align: middle;\n",
              "    }\n",
              "\n",
              "    .dataframe tbody tr th {\n",
              "        vertical-align: top;\n",
              "    }\n",
              "\n",
              "    .dataframe thead th {\n",
              "        text-align: right;\n",
              "    }\n",
              "</style>\n",
              "<table border=\"1\" class=\"dataframe\">\n",
              "  <thead>\n",
              "    <tr style=\"text-align: right;\">\n",
              "      <th></th>\n",
              "      <th>Unnamed: 0</th>\n",
              "      <th>_id</th>\n",
              "      <th>tweet_id</th>\n",
              "      <th>tweet</th>\n",
              "      <th>hinconst21_hibert_confidence</th>\n",
              "      <th>search</th>\n",
              "      <th>hinhasoc20_l3_confidence</th>\n",
              "      <th>hintrac1_confidence</th>\n",
              "      <th>hintrac2a_confidence</th>\n",
              "      <th>language</th>\n",
              "      <th>content_type</th>\n",
              "      <th>mean_all</th>\n",
              "      <th>tweet_edit</th>\n",
              "    </tr>\n",
              "  </thead>\n",
              "  <tbody>\n",
              "    <tr>\n",
              "      <th>213089</th>\n",
              "      <td>213089</td>\n",
              "      <td>61dd3699f453ec932bdd7215</td>\n",
              "      <td>979223732878172161</td>\n",
              "      <td>@anishapadukone कृपया कर आपके ngo की जानकारी द...</td>\n",
              "      <td>0.00</td>\n",
              "      <td>anishapadukone</td>\n",
              "      <td>0.00</td>\n",
              "      <td>0.14</td>\n",
              "      <td>0.05</td>\n",
              "      <td>hi</td>\n",
              "      <td>text</td>\n",
              "      <td>0.05</td>\n",
              "      <td>&lt;handle replaced&gt;कृपया कर आपके ngo की जानकारी ...</td>\n",
              "    </tr>\n",
              "    <tr>\n",
              "      <th>245416</th>\n",
              "      <td>245416</td>\n",
              "      <td>61e1a42dff8ef2dfd8f9e30f</td>\n",
              "      <td>1189535643304517632</td>\n",
              "      <td>@anitahasnandani सो कोल्ड ड्रामा😂😂😂</td>\n",
              "      <td>0.03</td>\n",
              "      <td>anitahasnandani</td>\n",
              "      <td>0.03</td>\n",
              "      <td>0.14</td>\n",
              "      <td>0.02</td>\n",
              "      <td>hi</td>\n",
              "      <td>text</td>\n",
              "      <td>0.06</td>\n",
              "      <td>&lt;handle replaced&gt;सो कोल्ड ड्रामा😂😂😂</td>\n",
              "    </tr>\n",
              "    <tr>\n",
              "      <th>223654</th>\n",
              "      <td>223654</td>\n",
              "      <td>61e10b1e85ff1e72f741560e</td>\n",
              "      <td>1448960181203705859</td>\n",
              "      <td>@spruhavarad खूप छान👌</td>\n",
              "      <td>0.00</td>\n",
              "      <td>spruhavarad</td>\n",
              "      <td>0.00</td>\n",
              "      <td>0.14</td>\n",
              "      <td>0.02</td>\n",
              "      <td>hi</td>\n",
              "      <td>text</td>\n",
              "      <td>0.04</td>\n",
              "      <td>&lt;handle replaced&gt;खूप छान👌</td>\n",
              "    </tr>\n",
              "    <tr>\n",
              "      <th>263646</th>\n",
              "      <td>263646</td>\n",
              "      <td>61e480a5c125920a4b7b7169</td>\n",
              "      <td>1288463415799758849</td>\n",
              "      <td>@salonayy Acchaa Acchaa 😂😂😂</td>\n",
              "      <td>0.00</td>\n",
              "      <td>salonayy</td>\n",
              "      <td>0.20</td>\n",
              "      <td>0.14</td>\n",
              "      <td>0.02</td>\n",
              "      <td>hi</td>\n",
              "      <td>text</td>\n",
              "      <td>0.09</td>\n",
              "      <td>&lt;handle replaced&gt;Acchaa Acchaa 😂😂😂</td>\n",
              "    </tr>\n",
              "    <tr>\n",
              "      <th>249904</th>\n",
              "      <td>249904</td>\n",
              "      <td>61e282b14cffadb7b4381d32</td>\n",
              "      <td>1193067203425292288</td>\n",
              "      <td>@moonstar4u जय श्री राम🚩</td>\n",
              "      <td>0.05</td>\n",
              "      <td>moonstar4u</td>\n",
              "      <td>0.00</td>\n",
              "      <td>0.14</td>\n",
              "      <td>0.03</td>\n",
              "      <td>hi</td>\n",
              "      <td>text</td>\n",
              "      <td>0.06</td>\n",
              "      <td>&lt;handle replaced&gt;जय श्री राम🚩</td>\n",
              "    </tr>\n",
              "    <tr>\n",
              "      <th>...</th>\n",
              "      <td>...</td>\n",
              "      <td>...</td>\n",
              "      <td>...</td>\n",
              "      <td>...</td>\n",
              "      <td>...</td>\n",
              "      <td>...</td>\n",
              "      <td>...</td>\n",
              "      <td>...</td>\n",
              "      <td>...</td>\n",
              "      <td>...</td>\n",
              "      <td>...</td>\n",
              "      <td>...</td>\n",
              "      <td>...</td>\n",
              "    </tr>\n",
              "    <tr>\n",
              "      <th>164475</th>\n",
              "      <td>164475</td>\n",
              "      <td>61e469219b81511f179f9f32</td>\n",
              "      <td>1200407934997614592</td>\n",
              "      <td>इन निकम्मो  के बस का नहीं, ये कुछ नहीं करेंगे ...</td>\n",
              "      <td>0.99</td>\n",
              "      <td>पिछवाड़ा</td>\n",
              "      <td>1.00</td>\n",
              "      <td>0.89</td>\n",
              "      <td>0.87</td>\n",
              "      <td>hi</td>\n",
              "      <td>text</td>\n",
              "      <td>0.94</td>\n",
              "      <td>इन निकम्मो  के बस का नहीं, ये कुछ नहीं करेंगे ...</td>\n",
              "    </tr>\n",
              "    <tr>\n",
              "      <th>106018</th>\n",
              "      <td>106018</td>\n",
              "      <td>61cb400c874027a5e0717992</td>\n",
              "      <td>1219275480487956480</td>\n",
              "      <td>@varnishant हरामी सिर्फ  Brahman में ही नहीं ह...</td>\n",
              "      <td>0.99</td>\n",
              "      <td>हरामी</td>\n",
              "      <td>1.00</td>\n",
              "      <td>0.85</td>\n",
              "      <td>0.87</td>\n",
              "      <td>hi</td>\n",
              "      <td>text</td>\n",
              "      <td>0.93</td>\n",
              "      <td>&lt;handle replaced&gt;हरामी सिर्फ  Brahman में ही न...</td>\n",
              "    </tr>\n",
              "    <tr>\n",
              "      <th>101629</th>\n",
              "      <td>101629</td>\n",
              "      <td>61cb3d442fa8b767a6dede80</td>\n",
              "      <td>1269655698838712320</td>\n",
              "      <td>मुस्लिमो से एक वात पूछना था।शरिया मे लिखा हे म...</td>\n",
              "      <td>0.99</td>\n",
              "      <td>शरिया</td>\n",
              "      <td>0.99</td>\n",
              "      <td>0.90</td>\n",
              "      <td>0.87</td>\n",
              "      <td>hi</td>\n",
              "      <td>text</td>\n",
              "      <td>0.94</td>\n",
              "      <td>मुस्लिमो से एक वात पूछना था।शरिया मे लिखा हे म...</td>\n",
              "    </tr>\n",
              "    <tr>\n",
              "      <th>78396</th>\n",
              "      <td>78396</td>\n",
              "      <td>61cb1a64d33b6977a2f3c2db</td>\n",
              "      <td>1300493842194415616</td>\n",
              "      <td>मोदी ने इसी कारण देसी कुकुरा पालने को बोला है।...</td>\n",
              "      <td>0.99</td>\n",
              "      <td>पॉटी</td>\n",
              "      <td>0.97</td>\n",
              "      <td>0.91</td>\n",
              "      <td>0.87</td>\n",
              "      <td>hi</td>\n",
              "      <td>text</td>\n",
              "      <td>0.94</td>\n",
              "      <td>मोदी ने इसी कारण देसी कुकुरा पालने को बोला है।...</td>\n",
              "    </tr>\n",
              "    <tr>\n",
              "      <th>163705</th>\n",
              "      <td>163705</td>\n",
              "      <td>61e46897a780e1b77eeeb673</td>\n",
              "      <td>1195494078353297408</td>\n",
              "      <td>गड़बड़ी मे पैदा हुए लोगों को हर जगह           ...</td>\n",
              "      <td>0.98</td>\n",
              "      <td>लिब्राण्डू</td>\n",
              "      <td>0.90</td>\n",
              "      <td>0.90</td>\n",
              "      <td>0.87</td>\n",
              "      <td>hi</td>\n",
              "      <td>text</td>\n",
              "      <td>0.91</td>\n",
              "      <td>गड़बड़ी मे पैदा हुए लोगों को हर जगह           ...</td>\n",
              "    </tr>\n",
              "  </tbody>\n",
              "</table>\n",
              "<p>8000 rows × 13 columns</p>\n",
              "</div>\n",
              "      <button class=\"colab-df-convert\" onclick=\"convertToInteractive('df-1d61aa19-a340-4bcf-817c-81748b5c6df7')\"\n",
              "              title=\"Convert this dataframe to an interactive table.\"\n",
              "              style=\"display:none;\">\n",
              "        \n",
              "  <svg xmlns=\"http://www.w3.org/2000/svg\" height=\"24px\"viewBox=\"0 0 24 24\"\n",
              "       width=\"24px\">\n",
              "    <path d=\"M0 0h24v24H0V0z\" fill=\"none\"/>\n",
              "    <path d=\"M18.56 5.44l.94 2.06.94-2.06 2.06-.94-2.06-.94-.94-2.06-.94 2.06-2.06.94zm-11 1L8.5 8.5l.94-2.06 2.06-.94-2.06-.94L8.5 2.5l-.94 2.06-2.06.94zm10 10l.94 2.06.94-2.06 2.06-.94-2.06-.94-.94-2.06-.94 2.06-2.06.94z\"/><path d=\"M17.41 7.96l-1.37-1.37c-.4-.4-.92-.59-1.43-.59-.52 0-1.04.2-1.43.59L10.3 9.45l-7.72 7.72c-.78.78-.78 2.05 0 2.83L4 21.41c.39.39.9.59 1.41.59.51 0 1.02-.2 1.41-.59l7.78-7.78 2.81-2.81c.8-.78.8-2.07 0-2.86zM5.41 20L4 18.59l7.72-7.72 1.47 1.35L5.41 20z\"/>\n",
              "  </svg>\n",
              "      </button>\n",
              "      \n",
              "  <style>\n",
              "    .colab-df-container {\n",
              "      display:flex;\n",
              "      flex-wrap:wrap;\n",
              "      gap: 12px;\n",
              "    }\n",
              "\n",
              "    .colab-df-convert {\n",
              "      background-color: #E8F0FE;\n",
              "      border: none;\n",
              "      border-radius: 50%;\n",
              "      cursor: pointer;\n",
              "      display: none;\n",
              "      fill: #1967D2;\n",
              "      height: 32px;\n",
              "      padding: 0 0 0 0;\n",
              "      width: 32px;\n",
              "    }\n",
              "\n",
              "    .colab-df-convert:hover {\n",
              "      background-color: #E2EBFA;\n",
              "      box-shadow: 0px 1px 2px rgba(60, 64, 67, 0.3), 0px 1px 3px 1px rgba(60, 64, 67, 0.15);\n",
              "      fill: #174EA6;\n",
              "    }\n",
              "\n",
              "    [theme=dark] .colab-df-convert {\n",
              "      background-color: #3B4455;\n",
              "      fill: #D2E3FC;\n",
              "    }\n",
              "\n",
              "    [theme=dark] .colab-df-convert:hover {\n",
              "      background-color: #434B5C;\n",
              "      box-shadow: 0px 1px 3px 1px rgba(0, 0, 0, 0.15);\n",
              "      filter: drop-shadow(0px 1px 2px rgba(0, 0, 0, 0.3));\n",
              "      fill: #FFFFFF;\n",
              "    }\n",
              "  </style>\n",
              "\n",
              "      <script>\n",
              "        const buttonEl =\n",
              "          document.querySelector('#df-1d61aa19-a340-4bcf-817c-81748b5c6df7 button.colab-df-convert');\n",
              "        buttonEl.style.display =\n",
              "          google.colab.kernel.accessAllowed ? 'block' : 'none';\n",
              "\n",
              "        async function convertToInteractive(key) {\n",
              "          const element = document.querySelector('#df-1d61aa19-a340-4bcf-817c-81748b5c6df7');\n",
              "          const dataTable =\n",
              "            await google.colab.kernel.invokeFunction('convertToInteractive',\n",
              "                                                     [key], {});\n",
              "          if (!dataTable) return;\n",
              "\n",
              "          const docLinkHtml = 'Like what you see? Visit the ' +\n",
              "            '<a target=\"_blank\" href=https://colab.research.google.com/notebooks/data_table.ipynb>data table notebook</a>'\n",
              "            + ' to learn more about interactive tables.';\n",
              "          element.innerHTML = '';\n",
              "          dataTable['output_type'] = 'display_data';\n",
              "          await google.colab.output.renderOutput(dataTable, element);\n",
              "          const docLink = document.createElement('div');\n",
              "          docLink.innerHTML = docLinkHtml;\n",
              "          element.appendChild(docLink);\n",
              "        }\n",
              "      </script>\n",
              "    </div>\n",
              "  </div>\n",
              "  "
            ],
            "text/plain": [
              "        Unnamed: 0  ...                                         tweet_edit\n",
              "213089      213089  ...  <handle replaced>कृपया कर आपके ngo की जानकारी ...\n",
              "245416      245416  ...                <handle replaced>सो कोल्ड ड्रामा😂😂😂\n",
              "223654      223654  ...                          <handle replaced>खूप छान👌\n",
              "263646      263646  ...                 <handle replaced>Acchaa Acchaa 😂😂😂\n",
              "249904      249904  ...                      <handle replaced>जय श्री राम🚩\n",
              "...            ...  ...                                                ...\n",
              "164475      164475  ...  इन निकम्मो  के बस का नहीं, ये कुछ नहीं करेंगे ...\n",
              "106018      106018  ...  <handle replaced>हरामी सिर्फ  Brahman में ही न...\n",
              "101629      101629  ...  मुस्लिमो से एक वात पूछना था।शरिया मे लिखा हे म...\n",
              "78396        78396  ...  मोदी ने इसी कारण देसी कुकुरा पालने को बोला है।...\n",
              "163705      163705  ...  गड़बड़ी मे पैदा हुए लोगों को हर जगह           ...\n",
              "\n",
              "[8000 rows x 13 columns]"
            ]
          },
          "metadata": {},
          "execution_count": 36
        }
      ]
    },
    {
      "cell_type": "code",
      "source": [
        "rslt=result[['tweet_id','language',\t'content_type','tweet_edit']]"
      ],
      "metadata": {
        "id": "Ww8JYD2Ypzpq"
      },
      "execution_count": 37,
      "outputs": []
    },
    {
      "cell_type": "code",
      "source": [
        "rslt['image_url']='[]'"
      ],
      "metadata": {
        "colab": {
          "base_uri": "https://localhost:8080/"
        },
        "id": "vniUHFhsOAJn",
        "outputId": "e814a6be-4052-4c16-a3fb-ddb4a8fa3a96"
      },
      "execution_count": 38,
      "outputs": [
        {
          "output_type": "stream",
          "name": "stderr",
          "text": [
            "/usr/local/lib/python3.7/dist-packages/ipykernel_launcher.py:1: SettingWithCopyWarning: \n",
            "A value is trying to be set on a copy of a slice from a DataFrame.\n",
            "Try using .loc[row_indexer,col_indexer] = value instead\n",
            "\n",
            "See the caveats in the documentation: https://pandas.pydata.org/pandas-docs/stable/user_guide/indexing.html#returning-a-view-versus-a-copy\n",
            "  \"\"\"Entry point for launching an IPython kernel.\n"
          ]
        }
      ]
    },
    {
      "cell_type": "code",
      "source": [
        "rslt"
      ],
      "metadata": {
        "colab": {
          "base_uri": "https://localhost:8080/",
          "height": 424
        },
        "id": "J9o3e7Pvp9JJ",
        "outputId": "04344b99-2ce3-4f65-b999-7d2e897f86bd"
      },
      "execution_count": 39,
      "outputs": [
        {
          "output_type": "execute_result",
          "data": {
            "text/html": [
              "\n",
              "  <div id=\"df-366df955-926d-4d62-9111-d6a544dfd4c9\">\n",
              "    <div class=\"colab-df-container\">\n",
              "      <div>\n",
              "<style scoped>\n",
              "    .dataframe tbody tr th:only-of-type {\n",
              "        vertical-align: middle;\n",
              "    }\n",
              "\n",
              "    .dataframe tbody tr th {\n",
              "        vertical-align: top;\n",
              "    }\n",
              "\n",
              "    .dataframe thead th {\n",
              "        text-align: right;\n",
              "    }\n",
              "</style>\n",
              "<table border=\"1\" class=\"dataframe\">\n",
              "  <thead>\n",
              "    <tr style=\"text-align: right;\">\n",
              "      <th></th>\n",
              "      <th>tweet_id</th>\n",
              "      <th>language</th>\n",
              "      <th>content_type</th>\n",
              "      <th>tweet_edit</th>\n",
              "      <th>image_url</th>\n",
              "    </tr>\n",
              "  </thead>\n",
              "  <tbody>\n",
              "    <tr>\n",
              "      <th>213089</th>\n",
              "      <td>979223732878172161</td>\n",
              "      <td>hi</td>\n",
              "      <td>text</td>\n",
              "      <td>&lt;handle replaced&gt;कृपया कर आपके ngo की जानकारी ...</td>\n",
              "      <td>[]</td>\n",
              "    </tr>\n",
              "    <tr>\n",
              "      <th>245416</th>\n",
              "      <td>1189535643304517632</td>\n",
              "      <td>hi</td>\n",
              "      <td>text</td>\n",
              "      <td>&lt;handle replaced&gt;सो कोल्ड ड्रामा😂😂😂</td>\n",
              "      <td>[]</td>\n",
              "    </tr>\n",
              "    <tr>\n",
              "      <th>223654</th>\n",
              "      <td>1448960181203705859</td>\n",
              "      <td>hi</td>\n",
              "      <td>text</td>\n",
              "      <td>&lt;handle replaced&gt;खूप छान👌</td>\n",
              "      <td>[]</td>\n",
              "    </tr>\n",
              "    <tr>\n",
              "      <th>263646</th>\n",
              "      <td>1288463415799758849</td>\n",
              "      <td>hi</td>\n",
              "      <td>text</td>\n",
              "      <td>&lt;handle replaced&gt;Acchaa Acchaa 😂😂😂</td>\n",
              "      <td>[]</td>\n",
              "    </tr>\n",
              "    <tr>\n",
              "      <th>249904</th>\n",
              "      <td>1193067203425292288</td>\n",
              "      <td>hi</td>\n",
              "      <td>text</td>\n",
              "      <td>&lt;handle replaced&gt;जय श्री राम🚩</td>\n",
              "      <td>[]</td>\n",
              "    </tr>\n",
              "    <tr>\n",
              "      <th>...</th>\n",
              "      <td>...</td>\n",
              "      <td>...</td>\n",
              "      <td>...</td>\n",
              "      <td>...</td>\n",
              "      <td>...</td>\n",
              "    </tr>\n",
              "    <tr>\n",
              "      <th>164475</th>\n",
              "      <td>1200407934997614592</td>\n",
              "      <td>hi</td>\n",
              "      <td>text</td>\n",
              "      <td>इन निकम्मो  के बस का नहीं, ये कुछ नहीं करेंगे ...</td>\n",
              "      <td>[]</td>\n",
              "    </tr>\n",
              "    <tr>\n",
              "      <th>106018</th>\n",
              "      <td>1219275480487956480</td>\n",
              "      <td>hi</td>\n",
              "      <td>text</td>\n",
              "      <td>&lt;handle replaced&gt;हरामी सिर्फ  Brahman में ही न...</td>\n",
              "      <td>[]</td>\n",
              "    </tr>\n",
              "    <tr>\n",
              "      <th>101629</th>\n",
              "      <td>1269655698838712320</td>\n",
              "      <td>hi</td>\n",
              "      <td>text</td>\n",
              "      <td>मुस्लिमो से एक वात पूछना था।शरिया मे लिखा हे म...</td>\n",
              "      <td>[]</td>\n",
              "    </tr>\n",
              "    <tr>\n",
              "      <th>78396</th>\n",
              "      <td>1300493842194415616</td>\n",
              "      <td>hi</td>\n",
              "      <td>text</td>\n",
              "      <td>मोदी ने इसी कारण देसी कुकुरा पालने को बोला है।...</td>\n",
              "      <td>[]</td>\n",
              "    </tr>\n",
              "    <tr>\n",
              "      <th>163705</th>\n",
              "      <td>1195494078353297408</td>\n",
              "      <td>hi</td>\n",
              "      <td>text</td>\n",
              "      <td>गड़बड़ी मे पैदा हुए लोगों को हर जगह           ...</td>\n",
              "      <td>[]</td>\n",
              "    </tr>\n",
              "  </tbody>\n",
              "</table>\n",
              "<p>8000 rows × 5 columns</p>\n",
              "</div>\n",
              "      <button class=\"colab-df-convert\" onclick=\"convertToInteractive('df-366df955-926d-4d62-9111-d6a544dfd4c9')\"\n",
              "              title=\"Convert this dataframe to an interactive table.\"\n",
              "              style=\"display:none;\">\n",
              "        \n",
              "  <svg xmlns=\"http://www.w3.org/2000/svg\" height=\"24px\"viewBox=\"0 0 24 24\"\n",
              "       width=\"24px\">\n",
              "    <path d=\"M0 0h24v24H0V0z\" fill=\"none\"/>\n",
              "    <path d=\"M18.56 5.44l.94 2.06.94-2.06 2.06-.94-2.06-.94-.94-2.06-.94 2.06-2.06.94zm-11 1L8.5 8.5l.94-2.06 2.06-.94-2.06-.94L8.5 2.5l-.94 2.06-2.06.94zm10 10l.94 2.06.94-2.06 2.06-.94-2.06-.94-.94-2.06-.94 2.06-2.06.94z\"/><path d=\"M17.41 7.96l-1.37-1.37c-.4-.4-.92-.59-1.43-.59-.52 0-1.04.2-1.43.59L10.3 9.45l-7.72 7.72c-.78.78-.78 2.05 0 2.83L4 21.41c.39.39.9.59 1.41.59.51 0 1.02-.2 1.41-.59l7.78-7.78 2.81-2.81c.8-.78.8-2.07 0-2.86zM5.41 20L4 18.59l7.72-7.72 1.47 1.35L5.41 20z\"/>\n",
              "  </svg>\n",
              "      </button>\n",
              "      \n",
              "  <style>\n",
              "    .colab-df-container {\n",
              "      display:flex;\n",
              "      flex-wrap:wrap;\n",
              "      gap: 12px;\n",
              "    }\n",
              "\n",
              "    .colab-df-convert {\n",
              "      background-color: #E8F0FE;\n",
              "      border: none;\n",
              "      border-radius: 50%;\n",
              "      cursor: pointer;\n",
              "      display: none;\n",
              "      fill: #1967D2;\n",
              "      height: 32px;\n",
              "      padding: 0 0 0 0;\n",
              "      width: 32px;\n",
              "    }\n",
              "\n",
              "    .colab-df-convert:hover {\n",
              "      background-color: #E2EBFA;\n",
              "      box-shadow: 0px 1px 2px rgba(60, 64, 67, 0.3), 0px 1px 3px 1px rgba(60, 64, 67, 0.15);\n",
              "      fill: #174EA6;\n",
              "    }\n",
              "\n",
              "    [theme=dark] .colab-df-convert {\n",
              "      background-color: #3B4455;\n",
              "      fill: #D2E3FC;\n",
              "    }\n",
              "\n",
              "    [theme=dark] .colab-df-convert:hover {\n",
              "      background-color: #434B5C;\n",
              "      box-shadow: 0px 1px 3px 1px rgba(0, 0, 0, 0.15);\n",
              "      filter: drop-shadow(0px 1px 2px rgba(0, 0, 0, 0.3));\n",
              "      fill: #FFFFFF;\n",
              "    }\n",
              "  </style>\n",
              "\n",
              "      <script>\n",
              "        const buttonEl =\n",
              "          document.querySelector('#df-366df955-926d-4d62-9111-d6a544dfd4c9 button.colab-df-convert');\n",
              "        buttonEl.style.display =\n",
              "          google.colab.kernel.accessAllowed ? 'block' : 'none';\n",
              "\n",
              "        async function convertToInteractive(key) {\n",
              "          const element = document.querySelector('#df-366df955-926d-4d62-9111-d6a544dfd4c9');\n",
              "          const dataTable =\n",
              "            await google.colab.kernel.invokeFunction('convertToInteractive',\n",
              "                                                     [key], {});\n",
              "          if (!dataTable) return;\n",
              "\n",
              "          const docLinkHtml = 'Like what you see? Visit the ' +\n",
              "            '<a target=\"_blank\" href=https://colab.research.google.com/notebooks/data_table.ipynb>data table notebook</a>'\n",
              "            + ' to learn more about interactive tables.';\n",
              "          element.innerHTML = '';\n",
              "          dataTable['output_type'] = 'display_data';\n",
              "          await google.colab.output.renderOutput(dataTable, element);\n",
              "          const docLink = document.createElement('div');\n",
              "          docLink.innerHTML = docLinkHtml;\n",
              "          element.appendChild(docLink);\n",
              "        }\n",
              "      </script>\n",
              "    </div>\n",
              "  </div>\n",
              "  "
            ],
            "text/plain": [
              "                   tweet_id  ... image_url\n",
              "213089   979223732878172161  ...        []\n",
              "245416  1189535643304517632  ...        []\n",
              "223654  1448960181203705859  ...        []\n",
              "263646  1288463415799758849  ...        []\n",
              "249904  1193067203425292288  ...        []\n",
              "...                     ...  ...       ...\n",
              "164475  1200407934997614592  ...        []\n",
              "106018  1219275480487956480  ...        []\n",
              "101629  1269655698838712320  ...        []\n",
              "78396   1300493842194415616  ...        []\n",
              "163705  1195494078353297408  ...        []\n",
              "\n",
              "[8000 rows x 5 columns]"
            ]
          },
          "metadata": {},
          "execution_count": 39
        }
      ]
    },
    {
      "cell_type": "code",
      "source": [
        "rslt.to_csv('hin_pooled_new.csv',index=False)"
      ],
      "metadata": {
        "id": "pkbEUDmt8EtH"
      },
      "execution_count": 41,
      "outputs": []
    }
  ]
}
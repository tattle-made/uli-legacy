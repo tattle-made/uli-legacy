{
 "cells": [
  {
   "cell_type": "code",
   "execution_count": 1,
   "metadata": {},
   "outputs": [
    {
     "name": "stdout",
     "output_type": "stream",
     "text": [
      "Collecting simpledorff\n",
      "  Downloading simpledorff-0.0.2-py3-none-any.whl (5.6 kB)\n",
      "Installing collected packages: simpledorff\n",
      "Successfully installed simpledorff-0.0.2\n"
     ]
    }
   ],
   "source": [
    "!pip install simpledorff"
   ]
  },
  {
   "cell_type": "code",
   "execution_count": 3,
   "metadata": {},
   "outputs": [],
   "source": [
    "import simpledorff\n",
    "import pandas as pd"
   ]
  },
  {
   "cell_type": "code",
   "execution_count": 4,
   "metadata": {},
   "outputs": [
    {
     "data": {
      "text/html": [
       "<div>\n",
       "<style scoped>\n",
       "    .dataframe tbody tr th:only-of-type {\n",
       "        vertical-align: middle;\n",
       "    }\n",
       "\n",
       "    .dataframe tbody tr th {\n",
       "        vertical-align: top;\n",
       "    }\n",
       "\n",
       "    .dataframe thead th {\n",
       "        text-align: right;\n",
       "    }\n",
       "</style>\n",
       "<table border=\"1\" class=\"dataframe\">\n",
       "  <thead>\n",
       "    <tr style=\"text-align: right;\">\n",
       "      <th></th>\n",
       "      <th>id</th>\n",
       "      <th>postId</th>\n",
       "      <th>key</th>\n",
       "      <th>value</th>\n",
       "      <th>userId</th>\n",
       "      <th>createdAt</th>\n",
       "      <th>updatedAt</th>\n",
       "      <th>PostId</th>\n",
       "      <th>UserId</th>\n",
       "    </tr>\n",
       "  </thead>\n",
       "  <tbody>\n",
       "    <tr>\n",
       "      <th>0</th>\n",
       "      <td>001f142e-55ee-4c3f-8a7b-de58f2fc0e99</td>\n",
       "      <td>2345d078-fa8c-4a08-8701-1a1042b581ad</td>\n",
       "      <td>ogbv</td>\n",
       "      <td>0</td>\n",
       "      <td>9801f71f-4ae8-4e4d-a6e5-7e42bc7fc12d</td>\n",
       "      <td>2021-11-16T10:15:22.000Z</td>\n",
       "      <td>2021-11-16T10:15:22.000Z</td>\n",
       "      <td>2345d078-fa8c-4a08-8701-1a1042b581ad</td>\n",
       "      <td>9801f71f-4ae8-4e4d-a6e5-7e42bc7fc12d</td>\n",
       "    </tr>\n",
       "    <tr>\n",
       "      <th>1</th>\n",
       "      <td>00736225-c329-4e6e-a888-82f0846d8a01</td>\n",
       "      <td>f18cee63-9d76-4144-9864-5b26c85ea5d0</td>\n",
       "      <td>explicit</td>\n",
       "      <td>0</td>\n",
       "      <td>426769bf-c9bf-42dc-a265-379c736adf1e</td>\n",
       "      <td>2021-11-16T10:15:26.000Z</td>\n",
       "      <td>2021-11-16T10:15:26.000Z</td>\n",
       "      <td>f18cee63-9d76-4144-9864-5b26c85ea5d0</td>\n",
       "      <td>426769bf-c9bf-42dc-a265-379c736adf1e</td>\n",
       "    </tr>\n",
       "    <tr>\n",
       "      <th>2</th>\n",
       "      <td>015a3076-e346-4067-897f-fbcf665ea52b</td>\n",
       "      <td>936a1759-9957-4f07-aee6-c29b52747465</td>\n",
       "      <td>ogbv</td>\n",
       "      <td>0</td>\n",
       "      <td>dee1115e-52ff-4d35-a511-8f23f37f3d26</td>\n",
       "      <td>2021-11-16T10:15:35.000Z</td>\n",
       "      <td>2021-11-16T10:19:24.000Z</td>\n",
       "      <td>936a1759-9957-4f07-aee6-c29b52747465</td>\n",
       "      <td>dee1115e-52ff-4d35-a511-8f23f37f3d26</td>\n",
       "    </tr>\n",
       "    <tr>\n",
       "      <th>3</th>\n",
       "      <td>027db1b5-e115-4ba9-b184-a380f7a8c9b0</td>\n",
       "      <td>7079ae54-1d9c-44a9-b5b8-f1b6fb6ebde8</td>\n",
       "      <td>ogbv</td>\n",
       "      <td>0</td>\n",
       "      <td>426769bf-c9bf-42dc-a265-379c736adf1e</td>\n",
       "      <td>2021-11-16T10:08:18.000Z</td>\n",
       "      <td>2021-11-16T10:08:18.000Z</td>\n",
       "      <td>7079ae54-1d9c-44a9-b5b8-f1b6fb6ebde8</td>\n",
       "      <td>426769bf-c9bf-42dc-a265-379c736adf1e</td>\n",
       "    </tr>\n",
       "    <tr>\n",
       "      <th>4</th>\n",
       "      <td>02e00f39-5119-4ef6-afc5-c9458fcf506a</td>\n",
       "      <td>eef7eca6-95be-4002-8b4a-db5a58249254</td>\n",
       "      <td>hate</td>\n",
       "      <td>0</td>\n",
       "      <td>9801f71f-4ae8-4e4d-a6e5-7e42bc7fc12d</td>\n",
       "      <td>2021-11-16T10:06:37.000Z</td>\n",
       "      <td>2021-11-16T10:06:37.000Z</td>\n",
       "      <td>eef7eca6-95be-4002-8b4a-db5a58249254</td>\n",
       "      <td>9801f71f-4ae8-4e4d-a6e5-7e42bc7fc12d</td>\n",
       "    </tr>\n",
       "  </tbody>\n",
       "</table>\n",
       "</div>"
      ],
      "text/plain": [
       "                                     id                                postId  \\\n",
       "0  001f142e-55ee-4c3f-8a7b-de58f2fc0e99  2345d078-fa8c-4a08-8701-1a1042b581ad   \n",
       "1  00736225-c329-4e6e-a888-82f0846d8a01  f18cee63-9d76-4144-9864-5b26c85ea5d0   \n",
       "2  015a3076-e346-4067-897f-fbcf665ea52b  936a1759-9957-4f07-aee6-c29b52747465   \n",
       "3  027db1b5-e115-4ba9-b184-a380f7a8c9b0  7079ae54-1d9c-44a9-b5b8-f1b6fb6ebde8   \n",
       "4  02e00f39-5119-4ef6-afc5-c9458fcf506a  eef7eca6-95be-4002-8b4a-db5a58249254   \n",
       "\n",
       "        key value                                userId  \\\n",
       "0      ogbv     0  9801f71f-4ae8-4e4d-a6e5-7e42bc7fc12d   \n",
       "1  explicit     0  426769bf-c9bf-42dc-a265-379c736adf1e   \n",
       "2      ogbv     0  dee1115e-52ff-4d35-a511-8f23f37f3d26   \n",
       "3      ogbv     0  426769bf-c9bf-42dc-a265-379c736adf1e   \n",
       "4      hate     0  9801f71f-4ae8-4e4d-a6e5-7e42bc7fc12d   \n",
       "\n",
       "                  createdAt                 updatedAt  \\\n",
       "0  2021-11-16T10:15:22.000Z  2021-11-16T10:15:22.000Z   \n",
       "1  2021-11-16T10:15:26.000Z  2021-11-16T10:15:26.000Z   \n",
       "2  2021-11-16T10:15:35.000Z  2021-11-16T10:19:24.000Z   \n",
       "3  2021-11-16T10:08:18.000Z  2021-11-16T10:08:18.000Z   \n",
       "4  2021-11-16T10:06:37.000Z  2021-11-16T10:06:37.000Z   \n",
       "\n",
       "                                 PostId                                UserId  \n",
       "0  2345d078-fa8c-4a08-8701-1a1042b581ad  9801f71f-4ae8-4e4d-a6e5-7e42bc7fc12d  \n",
       "1  f18cee63-9d76-4144-9864-5b26c85ea5d0  426769bf-c9bf-42dc-a265-379c736adf1e  \n",
       "2  936a1759-9957-4f07-aee6-c29b52747465  dee1115e-52ff-4d35-a511-8f23f37f3d26  \n",
       "3  7079ae54-1d9c-44a9-b5b8-f1b6fb6ebde8  426769bf-c9bf-42dc-a265-379c736adf1e  \n",
       "4  eef7eca6-95be-4002-8b4a-db5a58249254  9801f71f-4ae8-4e4d-a6e5-7e42bc7fc12d  "
      ]
     },
     "execution_count": 4,
     "metadata": {},
     "output_type": "execute_result"
    }
   ],
   "source": [
    "Data = pd.read_csv('data_file.csv')\n",
    "Data.head()"
   ]
  },
  {
   "cell_type": "code",
   "execution_count": 5,
   "metadata": {},
   "outputs": [],
   "source": [
    "subjects = Data.groupby('key')"
   ]
  },
  {
   "cell_type": "markdown",
   "metadata": {},
   "source": [
    "### OGBV"
   ]
  },
  {
   "cell_type": "code",
   "execution_count": 6,
   "metadata": {},
   "outputs": [],
   "source": [
    "ogbv = subjects.get_group('ogbv')"
   ]
  },
  {
   "cell_type": "code",
   "execution_count": 7,
   "metadata": {},
   "outputs": [
    {
     "data": {
      "text/html": [
       "<div>\n",
       "<style scoped>\n",
       "    .dataframe tbody tr th:only-of-type {\n",
       "        vertical-align: middle;\n",
       "    }\n",
       "\n",
       "    .dataframe tbody tr th {\n",
       "        vertical-align: top;\n",
       "    }\n",
       "\n",
       "    .dataframe thead th {\n",
       "        text-align: right;\n",
       "    }\n",
       "</style>\n",
       "<table border=\"1\" class=\"dataframe\">\n",
       "  <thead>\n",
       "    <tr style=\"text-align: right;\">\n",
       "      <th></th>\n",
       "      <th>id</th>\n",
       "      <th>postId</th>\n",
       "      <th>key</th>\n",
       "      <th>value</th>\n",
       "      <th>userId</th>\n",
       "      <th>createdAt</th>\n",
       "      <th>updatedAt</th>\n",
       "      <th>PostId</th>\n",
       "      <th>UserId</th>\n",
       "    </tr>\n",
       "  </thead>\n",
       "  <tbody>\n",
       "    <tr>\n",
       "      <th>0</th>\n",
       "      <td>001f142e-55ee-4c3f-8a7b-de58f2fc0e99</td>\n",
       "      <td>2345d078-fa8c-4a08-8701-1a1042b581ad</td>\n",
       "      <td>ogbv</td>\n",
       "      <td>0</td>\n",
       "      <td>9801f71f-4ae8-4e4d-a6e5-7e42bc7fc12d</td>\n",
       "      <td>2021-11-16T10:15:22.000Z</td>\n",
       "      <td>2021-11-16T10:15:22.000Z</td>\n",
       "      <td>2345d078-fa8c-4a08-8701-1a1042b581ad</td>\n",
       "      <td>9801f71f-4ae8-4e4d-a6e5-7e42bc7fc12d</td>\n",
       "    </tr>\n",
       "    <tr>\n",
       "      <th>2</th>\n",
       "      <td>015a3076-e346-4067-897f-fbcf665ea52b</td>\n",
       "      <td>936a1759-9957-4f07-aee6-c29b52747465</td>\n",
       "      <td>ogbv</td>\n",
       "      <td>0</td>\n",
       "      <td>dee1115e-52ff-4d35-a511-8f23f37f3d26</td>\n",
       "      <td>2021-11-16T10:15:35.000Z</td>\n",
       "      <td>2021-11-16T10:19:24.000Z</td>\n",
       "      <td>936a1759-9957-4f07-aee6-c29b52747465</td>\n",
       "      <td>dee1115e-52ff-4d35-a511-8f23f37f3d26</td>\n",
       "    </tr>\n",
       "    <tr>\n",
       "      <th>3</th>\n",
       "      <td>027db1b5-e115-4ba9-b184-a380f7a8c9b0</td>\n",
       "      <td>7079ae54-1d9c-44a9-b5b8-f1b6fb6ebde8</td>\n",
       "      <td>ogbv</td>\n",
       "      <td>0</td>\n",
       "      <td>426769bf-c9bf-42dc-a265-379c736adf1e</td>\n",
       "      <td>2021-11-16T10:08:18.000Z</td>\n",
       "      <td>2021-11-16T10:08:18.000Z</td>\n",
       "      <td>7079ae54-1d9c-44a9-b5b8-f1b6fb6ebde8</td>\n",
       "      <td>426769bf-c9bf-42dc-a265-379c736adf1e</td>\n",
       "    </tr>\n",
       "    <tr>\n",
       "      <th>7</th>\n",
       "      <td>045bc368-4e85-48ac-b5fd-e1fbdae11eab</td>\n",
       "      <td>936a1759-9957-4f07-aee6-c29b52747465</td>\n",
       "      <td>ogbv</td>\n",
       "      <td>0</td>\n",
       "      <td>9801f71f-4ae8-4e4d-a6e5-7e42bc7fc12d</td>\n",
       "      <td>2021-11-16T10:11:02.000Z</td>\n",
       "      <td>2021-11-16T10:11:02.000Z</td>\n",
       "      <td>936a1759-9957-4f07-aee6-c29b52747465</td>\n",
       "      <td>9801f71f-4ae8-4e4d-a6e5-7e42bc7fc12d</td>\n",
       "    </tr>\n",
       "    <tr>\n",
       "      <th>13</th>\n",
       "      <td>07796dc3-329b-4b7c-b454-593f9f737983</td>\n",
       "      <td>27147a4c-73d5-4b17-8a64-dbd80ee250a6</td>\n",
       "      <td>ogbv</td>\n",
       "      <td>0</td>\n",
       "      <td>dee1115e-52ff-4d35-a511-8f23f37f3d26</td>\n",
       "      <td>2021-11-16T10:18:18.000Z</td>\n",
       "      <td>2021-11-16T10:18:18.000Z</td>\n",
       "      <td>27147a4c-73d5-4b17-8a64-dbd80ee250a6</td>\n",
       "      <td>dee1115e-52ff-4d35-a511-8f23f37f3d26</td>\n",
       "    </tr>\n",
       "  </tbody>\n",
       "</table>\n",
       "</div>"
      ],
      "text/plain": [
       "                                      id  \\\n",
       "0   001f142e-55ee-4c3f-8a7b-de58f2fc0e99   \n",
       "2   015a3076-e346-4067-897f-fbcf665ea52b   \n",
       "3   027db1b5-e115-4ba9-b184-a380f7a8c9b0   \n",
       "7   045bc368-4e85-48ac-b5fd-e1fbdae11eab   \n",
       "13  07796dc3-329b-4b7c-b454-593f9f737983   \n",
       "\n",
       "                                  postId   key value  \\\n",
       "0   2345d078-fa8c-4a08-8701-1a1042b581ad  ogbv     0   \n",
       "2   936a1759-9957-4f07-aee6-c29b52747465  ogbv     0   \n",
       "3   7079ae54-1d9c-44a9-b5b8-f1b6fb6ebde8  ogbv     0   \n",
       "7   936a1759-9957-4f07-aee6-c29b52747465  ogbv     0   \n",
       "13  27147a4c-73d5-4b17-8a64-dbd80ee250a6  ogbv     0   \n",
       "\n",
       "                                  userId                 createdAt  \\\n",
       "0   9801f71f-4ae8-4e4d-a6e5-7e42bc7fc12d  2021-11-16T10:15:22.000Z   \n",
       "2   dee1115e-52ff-4d35-a511-8f23f37f3d26  2021-11-16T10:15:35.000Z   \n",
       "3   426769bf-c9bf-42dc-a265-379c736adf1e  2021-11-16T10:08:18.000Z   \n",
       "7   9801f71f-4ae8-4e4d-a6e5-7e42bc7fc12d  2021-11-16T10:11:02.000Z   \n",
       "13  dee1115e-52ff-4d35-a511-8f23f37f3d26  2021-11-16T10:18:18.000Z   \n",
       "\n",
       "                   updatedAt                                PostId  \\\n",
       "0   2021-11-16T10:15:22.000Z  2345d078-fa8c-4a08-8701-1a1042b581ad   \n",
       "2   2021-11-16T10:19:24.000Z  936a1759-9957-4f07-aee6-c29b52747465   \n",
       "3   2021-11-16T10:08:18.000Z  7079ae54-1d9c-44a9-b5b8-f1b6fb6ebde8   \n",
       "7   2021-11-16T10:11:02.000Z  936a1759-9957-4f07-aee6-c29b52747465   \n",
       "13  2021-11-16T10:18:18.000Z  27147a4c-73d5-4b17-8a64-dbd80ee250a6   \n",
       "\n",
       "                                  UserId  \n",
       "0   9801f71f-4ae8-4e4d-a6e5-7e42bc7fc12d  \n",
       "2   dee1115e-52ff-4d35-a511-8f23f37f3d26  \n",
       "3   426769bf-c9bf-42dc-a265-379c736adf1e  \n",
       "7   9801f71f-4ae8-4e4d-a6e5-7e42bc7fc12d  \n",
       "13  dee1115e-52ff-4d35-a511-8f23f37f3d26  "
      ]
     },
     "execution_count": 7,
     "metadata": {},
     "output_type": "execute_result"
    }
   ],
   "source": [
    "ogbv.head()"
   ]
  },
  {
   "cell_type": "code",
   "execution_count": 8,
   "metadata": {},
   "outputs": [
    {
     "data": {
      "text/plain": [
       "0.7425431711145998"
      ]
     },
     "execution_count": 8,
     "metadata": {},
     "output_type": "execute_result"
    }
   ],
   "source": [
    "simpledorff.calculate_krippendorffs_alpha_for_df(ogbv,experiment_col='postId',\n",
    "                                                 annotator_col='userId',\n",
    "                                                 class_col='value')"
   ]
  },
  {
   "cell_type": "markdown",
   "metadata": {},
   "source": [
    "### EXPLICIT"
   ]
  },
  {
   "cell_type": "code",
   "execution_count": 9,
   "metadata": {},
   "outputs": [
    {
     "data": {
      "text/plain": [
       "0.1752913752913754"
      ]
     },
     "execution_count": 9,
     "metadata": {},
     "output_type": "execute_result"
    }
   ],
   "source": [
    "explicit = subjects.get_group('explicit')\n",
    "\n",
    "simpledorff.calculate_krippendorffs_alpha_for_df(explicit,experiment_col='postId',\n",
    "                                                 annotator_col='userId',\n",
    "                                                 class_col='value')"
   ]
  },
  {
   "cell_type": "markdown",
   "metadata": {},
   "source": [
    "### HATE"
   ]
  },
  {
   "cell_type": "code",
   "execution_count": 10,
   "metadata": {},
   "outputs": [
    {
     "data": {
      "text/plain": [
       "-0.03418803418803429"
      ]
     },
     "execution_count": 10,
     "metadata": {},
     "output_type": "execute_result"
    }
   ],
   "source": [
    "hate = subjects.get_group('hate')\n",
    "\n",
    "simpledorff.calculate_krippendorffs_alpha_for_df(hate,experiment_col='postId',\n",
    "                                                annotator_col='userId',\n",
    "                                                class_col='value')"
   ]
  },
  {
   "cell_type": "code",
   "execution_count": null,
   "metadata": {},
   "outputs": [],
   "source": []
  }
 ],
 "metadata": {
  "kernelspec": {
   "display_name": "Python 3.7.11 64-bit ('nlp': conda)",
   "language": "python",
   "name": "python3711jvsc74a57bd07afbde5199b4215604d9ba5a0bf2f330e5a9d3140d2f7848025bd250c5fae2df"
  },
  "language_info": {
   "codemirror_mode": {
    "name": "ipython",
    "version": 3
   },
   "file_extension": ".py",
   "mimetype": "text/x-python",
   "name": "python",
   "nbconvert_exporter": "python",
   "pygments_lexer": "ipython3",
   "version": "3.7.11"
  }
 },
 "nbformat": 4,
 "nbformat_minor": 2
}
